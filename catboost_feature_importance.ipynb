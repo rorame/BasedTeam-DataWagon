{
 "cells": [
  {
   "cell_type": "code",
   "execution_count": 1,
   "id": "877464a1-a4d9-404b-82ec-27c2c052e4b5",
   "metadata": {},
   "outputs": [],
   "source": [
    "from catboost import CatBoostClassifier, Pool\n",
    "from sklearn.model_selection import GridSearchCV, train_test_split\n",
    "from sklearn.model_selection import StratifiedKFold, cross_val_score\n",
    "from sklearn.metrics import make_scorer, f1_score\n",
    "import pandas as pd\n",
    "import numpy as np\n",
    "import matplotlib.pyplot as plt\n",
    "\n",
    "RANDOM_STATE = 57"
   ]
  },
  {
   "cell_type": "code",
   "execution_count": 2,
   "id": "a68c2edb-8361-4ded-9190-0b6e8ec7f6e0",
   "metadata": {},
   "outputs": [],
   "source": [
    "train_df = pd.read_csv('train_df.csv')\n",
    "train_df.drop(['Unnamed: 0'], axis=1, inplace=True, errors='ignore')\n",
    "\n",
    "y_mnth = train_df.target_month\n",
    "\n",
    "y_d = train_df.target_day"
   ]
  },
  {
   "cell_type": "code",
   "execution_count": 3,
   "id": "886cb408-b2b5-49a4-8c6e-3c63f9801a9e",
   "metadata": {},
   "outputs": [
    {
     "data": {
      "text/html": [
       "<div>\n",
       "<style scoped>\n",
       "    .dataframe tbody tr th:only-of-type {\n",
       "        vertical-align: middle;\n",
       "    }\n",
       "\n",
       "    .dataframe tbody tr th {\n",
       "        vertical-align: top;\n",
       "    }\n",
       "\n",
       "    .dataframe thead th {\n",
       "        text-align: right;\n",
       "    }\n",
       "</style>\n",
       "<table border=\"1\" class=\"dataframe\">\n",
       "  <thead>\n",
       "    <tr style=\"text-align: right;\">\n",
       "      <th></th>\n",
       "      <th>wagnum</th>\n",
       "      <th>month</th>\n",
       "      <th>target_month</th>\n",
       "      <th>target_day</th>\n",
       "      <th>last_prob</th>\n",
       "      <th>daily_avg_probeg_per_mnth</th>\n",
       "      <th>rolling_daily_avg</th>\n",
       "      <th>ost_prob</th>\n",
       "      <th>days_from_kap_rem</th>\n",
       "      <th>days_from_dep_rem</th>\n",
       "      <th>...</th>\n",
       "      <th>tara</th>\n",
       "      <th>cnsi_probeg_dr</th>\n",
       "      <th>cnsi_probeg_kr</th>\n",
       "      <th>days_from_build</th>\n",
       "      <th>days_to_liq</th>\n",
       "      <th>days_from_pr_rem</th>\n",
       "      <th>tr_rem_cnt_before</th>\n",
       "      <th>days_from_last_tr_rem</th>\n",
       "      <th>predict_probeg_in_10_days</th>\n",
       "      <th>predict_probeg_in_1_mnth</th>\n",
       "    </tr>\n",
       "  </thead>\n",
       "  <tbody>\n",
       "    <tr>\n",
       "      <th>0</th>\n",
       "      <td>33361</td>\n",
       "      <td>2023-01-01</td>\n",
       "      <td>0</td>\n",
       "      <td>0</td>\n",
       "      <td>153692.0</td>\n",
       "      <td>207.466667</td>\n",
       "      <td>93.071494</td>\n",
       "      <td>153113.0</td>\n",
       "      <td>1049.000000</td>\n",
       "      <td>1937.0</td>\n",
       "      <td>...</td>\n",
       "      <td>245</td>\n",
       "      <td>110</td>\n",
       "      <td>160</td>\n",
       "      <td>4345</td>\n",
       "      <td>3712</td>\n",
       "      <td>41.000000</td>\n",
       "      <td>2.000000</td>\n",
       "      <td>92.000000</td>\n",
       "      <td>152182.285057</td>\n",
       "      <td>150320.855172</td>\n",
       "    </tr>\n",
       "    <tr>\n",
       "      <th>1</th>\n",
       "      <td>33364</td>\n",
       "      <td>2023-01-01</td>\n",
       "      <td>0</td>\n",
       "      <td>0</td>\n",
       "      <td>157438.0</td>\n",
       "      <td>227.666667</td>\n",
       "      <td>262.708046</td>\n",
       "      <td>157426.0</td>\n",
       "      <td>820.000000</td>\n",
       "      <td>1736.0</td>\n",
       "      <td>...</td>\n",
       "      <td>245</td>\n",
       "      <td>110</td>\n",
       "      <td>160</td>\n",
       "      <td>4638</td>\n",
       "      <td>3023</td>\n",
       "      <td>24.000000</td>\n",
       "      <td>1.000000</td>\n",
       "      <td>31.000000</td>\n",
       "      <td>154798.919540</td>\n",
       "      <td>149544.758621</td>\n",
       "    </tr>\n",
       "    <tr>\n",
       "      <th>2</th>\n",
       "      <td>33366</td>\n",
       "      <td>2023-01-01</td>\n",
       "      <td>0</td>\n",
       "      <td>0</td>\n",
       "      <td>159999.0</td>\n",
       "      <td>50.266667</td>\n",
       "      <td>67.653333</td>\n",
       "      <td>159748.0</td>\n",
       "      <td>1937.104444</td>\n",
       "      <td>1003.0</td>\n",
       "      <td>...</td>\n",
       "      <td>245</td>\n",
       "      <td>110</td>\n",
       "      <td>160</td>\n",
       "      <td>4575</td>\n",
       "      <td>3307</td>\n",
       "      <td>28.000000</td>\n",
       "      <td>2.000000</td>\n",
       "      <td>153.000000</td>\n",
       "      <td>159071.466667</td>\n",
       "      <td>157718.400000</td>\n",
       "    </tr>\n",
       "    <tr>\n",
       "      <th>3</th>\n",
       "      <td>33358</td>\n",
       "      <td>2023-01-01</td>\n",
       "      <td>0</td>\n",
       "      <td>0</td>\n",
       "      <td>28597.0</td>\n",
       "      <td>54.200000</td>\n",
       "      <td>89.137701</td>\n",
       "      <td>28597.0</td>\n",
       "      <td>677.000000</td>\n",
       "      <td>1251.0</td>\n",
       "      <td>...</td>\n",
       "      <td>245</td>\n",
       "      <td>110</td>\n",
       "      <td>160</td>\n",
       "      <td>3748</td>\n",
       "      <td>3621</td>\n",
       "      <td>57.193483</td>\n",
       "      <td>1.000000</td>\n",
       "      <td>153.000000</td>\n",
       "      <td>27705.622989</td>\n",
       "      <td>25922.868966</td>\n",
       "    </tr>\n",
       "    <tr>\n",
       "      <th>4</th>\n",
       "      <td>33349</td>\n",
       "      <td>2023-01-01</td>\n",
       "      <td>0</td>\n",
       "      <td>0</td>\n",
       "      <td>150043.0</td>\n",
       "      <td>126.533333</td>\n",
       "      <td>105.931954</td>\n",
       "      <td>150043.0</td>\n",
       "      <td>909.000000</td>\n",
       "      <td>1674.0</td>\n",
       "      <td>...</td>\n",
       "      <td>245</td>\n",
       "      <td>110</td>\n",
       "      <td>160</td>\n",
       "      <td>4060</td>\n",
       "      <td>3990</td>\n",
       "      <td>87.000000</td>\n",
       "      <td>1.483167</td>\n",
       "      <td>65.956427</td>\n",
       "      <td>148983.680460</td>\n",
       "      <td>146865.041379</td>\n",
       "    </tr>\n",
       "  </tbody>\n",
       "</table>\n",
       "<p>5 rows × 24 columns</p>\n",
       "</div>"
      ],
      "text/plain": [
       "   wagnum       month  target_month  target_day  last_prob  \\\n",
       "0   33361  2023-01-01             0           0   153692.0   \n",
       "1   33364  2023-01-01             0           0   157438.0   \n",
       "2   33366  2023-01-01             0           0   159999.0   \n",
       "3   33358  2023-01-01             0           0    28597.0   \n",
       "4   33349  2023-01-01             0           0   150043.0   \n",
       "\n",
       "   daily_avg_probeg_per_mnth  rolling_daily_avg  ost_prob  days_from_kap_rem  \\\n",
       "0                 207.466667          93.071494  153113.0        1049.000000   \n",
       "1                 227.666667         262.708046  157426.0         820.000000   \n",
       "2                  50.266667          67.653333  159748.0        1937.104444   \n",
       "3                  54.200000          89.137701   28597.0         677.000000   \n",
       "4                 126.533333         105.931954  150043.0         909.000000   \n",
       "\n",
       "   days_from_dep_rem  ...  tara  cnsi_probeg_dr  cnsi_probeg_kr  \\\n",
       "0             1937.0  ...   245             110             160   \n",
       "1             1736.0  ...   245             110             160   \n",
       "2             1003.0  ...   245             110             160   \n",
       "3             1251.0  ...   245             110             160   \n",
       "4             1674.0  ...   245             110             160   \n",
       "\n",
       "   days_from_build  days_to_liq  days_from_pr_rem  tr_rem_cnt_before  \\\n",
       "0             4345         3712         41.000000           2.000000   \n",
       "1             4638         3023         24.000000           1.000000   \n",
       "2             4575         3307         28.000000           2.000000   \n",
       "3             3748         3621         57.193483           1.000000   \n",
       "4             4060         3990         87.000000           1.483167   \n",
       "\n",
       "   days_from_last_tr_rem  predict_probeg_in_10_days  predict_probeg_in_1_mnth  \n",
       "0              92.000000              152182.285057             150320.855172  \n",
       "1              31.000000              154798.919540             149544.758621  \n",
       "2             153.000000              159071.466667             157718.400000  \n",
       "3             153.000000               27705.622989              25922.868966  \n",
       "4              65.956427              148983.680460             146865.041379  \n",
       "\n",
       "[5 rows x 24 columns]"
      ]
     },
     "execution_count": 3,
     "metadata": {},
     "output_type": "execute_result"
    }
   ],
   "source": [
    "train_df.head()"
   ]
  },
  {
   "cell_type": "code",
   "execution_count": 4,
   "id": "4007b88f-07d2-4a28-a235-e1480fd9f95c",
   "metadata": {},
   "outputs": [],
   "source": [
    "train_df.month = pd.to_datetime(train_df.month)\n",
    "train_df_no_dates = train_df"
   ]
  },
  {
   "cell_type": "code",
   "execution_count": 5,
   "id": "d0c6013e-8a4e-44ca-af43-11716796c6fc",
   "metadata": {},
   "outputs": [],
   "source": [
    "X = train_df.drop(columns=['wagnum', 'month', 'target_month', 'target_day'])\n",
    "\n",
    "y = train_df[['target_month', 'target_day']]"
   ]
  },
  {
   "cell_type": "code",
   "execution_count": 6,
   "id": "2029d14c-8f2d-4bf8-9d24-d4798bf75457",
   "metadata": {},
   "outputs": [],
   "source": [
    "X_train, X_test, y_train, y_test = train_test_split(X, y, test_size=0.1, random_state=RANDOM_STATE)"
   ]
  },
  {
   "cell_type": "code",
   "execution_count": 7,
   "id": "f56b2006-e53b-4c74-9ed2-866c8a8a98df",
   "metadata": {},
   "outputs": [],
   "source": [
    "y_train_day = y_train.target_day\n",
    "y_train_month = y_train.target_month\n",
    "y_test_day = y_test.target_day\n",
    "y_test_month = y_test.target_month"
   ]
  },
  {
   "cell_type": "code",
   "execution_count": 8,
   "id": "b3485d66-b3ac-41d2-a5d3-d7923afc25c1",
   "metadata": {},
   "outputs": [],
   "source": [
    "k_fold = 5 \n",
    "stratified_kfold = StratifiedKFold(n_splits=k_fold, shuffle=True)\n",
    "\n",
    "scorer = make_scorer(f1_score, average='weighted')"
   ]
  },
  {
   "cell_type": "code",
   "execution_count": 9,
   "id": "e443b392-51a5-430f-b7ad-c74da3dc8643",
   "metadata": {},
   "outputs": [
    {
     "data": {
      "text/plain": [
       "<catboost.core.CatBoostClassifier at 0x2cb0f7b1460>"
      ]
     },
     "execution_count": 9,
     "metadata": {},
     "output_type": "execute_result"
    }
   ],
   "source": [
    "gs_CB_day_est = CatBoostClassifier(loss_function='Logloss', verbose=True, random_state=RANDOM_STATE,\n",
    "                                   depth = 3,\n",
    "                                   iterations = 100,\n",
    "                                   learning_rate = 0.7,\n",
    "                                   l2_leaf_reg=0.5)\n",
    "gs_CB_day_est.fit(X_train, y_train_day, verbose=0)"
   ]
  },
  {
   "cell_type": "code",
   "execution_count": 10,
   "id": "53982278-f463-48ae-97c4-3f663a49bb01",
   "metadata": {},
   "outputs": [
    {
     "data": {
      "text/plain": [
       "Text(0.5, 1.0, 'Feature Importance')"
      ]
     },
     "execution_count": 10,
     "metadata": {},
     "output_type": "execute_result"
    },
    {
     "data": {
      "image/png": "[encoded data removed]",
      "text/plain": [
       "<Figure size 1200x600 with 1 Axes>"
      ]
     },
     "metadata": {},
     "output_type": "display_data"
    }
   ],
   "source": [
    "feature_importance = gs_CB_day_est.feature_importances_\n",
    "sorted_idx = np.argsort(feature_importance)\n",
    "fig = plt.figure(figsize=(12, 6))\n",
    "plt.barh(range(len(sorted_idx)), feature_importance[sorted_idx], align='center')\n",
    "plt.yticks(range(len(sorted_idx)), np.array(X_test.columns)[sorted_idx])\n",
    "plt.title('Feature Importance')"
   ]
  },
  {
   "cell_type": "code",
   "execution_count": null,
   "id": "b622ce48-c782-4ab0-9cbf-abd1a951d7b9",
   "metadata": {},
   "outputs": [],
   "source": []
  }
 ],
 "metadata": {
  "kernelspec": {
   "display_name": "Python 3 (ipykernel)",
   "language": "python",
   "name": "python3"
  },
  "language_info": {
   "codemirror_mode": {
    "name": "ipython",
    "version": 3
   },
   "file_extension": ".py",
   "mimetype": "text/x-python",
   "name": "python",
   "nbconvert_exporter": "python",
   "pygments_lexer": "ipython3",
   "version": "3.9.5"
  }
 },
 "nbformat": 4,
 "nbformat_minor": 5
}

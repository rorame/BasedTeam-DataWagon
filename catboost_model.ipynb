{
 "cells": [
  {
   "cell_type": "code",
   "execution_count": 1,
   "id": "877464a1-a4d9-404b-82ec-27c2c052e4b5",
   "metadata": {},
   "outputs": [],
   "source": [
    "from catboost import CatBoostClassifier, Pool\n",
    "from sklearn.model_selection import GridSearchCV, train_test_split\n",
    "from sklearn.model_selection import StratifiedKFold, cross_val_score\n",
    "from sklearn.metrics import make_scorer, f1_score\n",
    "import pandas as pd\n",
    "import numpy as np\n",
    "import matplotlib.pyplot as plt\n",
    "\n",
    "RANDOM_STATE = 57"
   ]
  },
  {
   "cell_type": "code",
   "execution_count": 2,
   "id": "a68c2edb-8361-4ded-9190-0b6e8ec7f6e0",
   "metadata": {},
   "outputs": [],
   "source": [
    "train_df = pd.read_csv('train_df.csv')\n",
    "train_df.drop(['Unnamed: 0'], axis=1, inplace=True, errors='ignore')\n",
    "\n",
    "y_mnth = train_df.target_month\n",
    "\n",
    "y_d = train_df.target_day"
   ]
  },
  {
   "cell_type": "code",
   "execution_count": 3,
   "id": "886cb408-b2b5-49a4-8c6e-3c63f9801a9e",
   "metadata": {},
   "outputs": [
    {
     "data": {
      "text/html": [
       "<div>\n",
       "<style scoped>\n",
       "    .dataframe tbody tr th:only-of-type {\n",
       "        vertical-align: middle;\n",
       "    }\n",
       "\n",
       "    .dataframe tbody tr th {\n",
       "        vertical-align: top;\n",
       "    }\n",
       "\n",
       "    .dataframe thead th {\n",
       "        text-align: right;\n",
       "    }\n",
       "</style>\n",
       "<table border=\"1\" class=\"dataframe\">\n",
       "  <thead>\n",
       "    <tr style=\"text-align: right;\">\n",
       "      <th></th>\n",
       "      <th>wagnum</th>\n",
       "      <th>month</th>\n",
       "      <th>target_month</th>\n",
       "      <th>target_day</th>\n",
       "      <th>last_prob</th>\n",
       "      <th>daily_avg_probeg_per_mnth</th>\n",
       "      <th>rolling_daily_avg</th>\n",
       "      <th>ost_prob</th>\n",
       "      <th>days_from_kap_rem</th>\n",
       "      <th>days_from_dep_rem</th>\n",
       "      <th>...</th>\n",
       "      <th>tara</th>\n",
       "      <th>cnsi_probeg_dr</th>\n",
       "      <th>cnsi_probeg_kr</th>\n",
       "      <th>days_from_build</th>\n",
       "      <th>days_to_liq</th>\n",
       "      <th>days_from_pr_rem</th>\n",
       "      <th>tr_rem_cnt_before</th>\n",
       "      <th>days_from_last_tr_rem</th>\n",
       "      <th>predict_probeg_in_10_days</th>\n",
       "      <th>predict_probeg_in_1_mnth</th>\n",
       "    </tr>\n",
       "  </thead>\n",
       "  <tbody>\n",
       "    <tr>\n",
       "      <th>0</th>\n",
       "      <td>33361</td>\n",
       "      <td>2023-01-01</td>\n",
       "      <td>0</td>\n",
       "      <td>0</td>\n",
       "      <td>153692.0</td>\n",
       "      <td>207.466667</td>\n",
       "      <td>93.071494</td>\n",
       "      <td>153113.0</td>\n",
       "      <td>1049.000000</td>\n",
       "      <td>1937.0</td>\n",
       "      <td>...</td>\n",
       "      <td>245</td>\n",
       "      <td>110</td>\n",
       "      <td>160</td>\n",
       "      <td>4345</td>\n",
       "      <td>3712</td>\n",
       "      <td>41.000000</td>\n",
       "      <td>2.000000</td>\n",
       "      <td>92.000000</td>\n",
       "      <td>152182.285057</td>\n",
       "      <td>150320.855172</td>\n",
       "    </tr>\n",
       "    <tr>\n",
       "      <th>1</th>\n",
       "      <td>33364</td>\n",
       "      <td>2023-01-01</td>\n",
       "      <td>0</td>\n",
       "      <td>0</td>\n",
       "      <td>157438.0</td>\n",
       "      <td>227.666667</td>\n",
       "      <td>262.708046</td>\n",
       "      <td>157426.0</td>\n",
       "      <td>820.000000</td>\n",
       "      <td>1736.0</td>\n",
       "      <td>...</td>\n",
       "      <td>245</td>\n",
       "      <td>110</td>\n",
       "      <td>160</td>\n",
       "      <td>4638</td>\n",
       "      <td>3023</td>\n",
       "      <td>24.000000</td>\n",
       "      <td>1.000000</td>\n",
       "      <td>31.000000</td>\n",
       "      <td>154798.919540</td>\n",
       "      <td>149544.758621</td>\n",
       "    </tr>\n",
       "    <tr>\n",
       "      <th>2</th>\n",
       "      <td>33366</td>\n",
       "      <td>2023-01-01</td>\n",
       "      <td>0</td>\n",
       "      <td>0</td>\n",
       "      <td>159999.0</td>\n",
       "      <td>50.266667</td>\n",
       "      <td>67.653333</td>\n",
       "      <td>159748.0</td>\n",
       "      <td>1937.104444</td>\n",
       "      <td>1003.0</td>\n",
       "      <td>...</td>\n",
       "      <td>245</td>\n",
       "      <td>110</td>\n",
       "      <td>160</td>\n",
       "      <td>4575</td>\n",
       "      <td>3307</td>\n",
       "      <td>28.000000</td>\n",
       "      <td>2.000000</td>\n",
       "      <td>153.000000</td>\n",
       "      <td>159071.466667</td>\n",
       "      <td>157718.400000</td>\n",
       "    </tr>\n",
       "    <tr>\n",
       "      <th>3</th>\n",
       "      <td>33358</td>\n",
       "      <td>2023-01-01</td>\n",
       "      <td>0</td>\n",
       "      <td>0</td>\n",
       "      <td>28597.0</td>\n",
       "      <td>54.200000</td>\n",
       "      <td>89.137701</td>\n",
       "      <td>28597.0</td>\n",
       "      <td>677.000000</td>\n",
       "      <td>1251.0</td>\n",
       "      <td>...</td>\n",
       "      <td>245</td>\n",
       "      <td>110</td>\n",
       "      <td>160</td>\n",
       "      <td>3748</td>\n",
       "      <td>3621</td>\n",
       "      <td>57.193483</td>\n",
       "      <td>1.000000</td>\n",
       "      <td>153.000000</td>\n",
       "      <td>27705.622989</td>\n",
       "      <td>25922.868966</td>\n",
       "    </tr>\n",
       "    <tr>\n",
       "      <th>4</th>\n",
       "      <td>33349</td>\n",
       "      <td>2023-01-01</td>\n",
       "      <td>0</td>\n",
       "      <td>0</td>\n",
       "      <td>150043.0</td>\n",
       "      <td>126.533333</td>\n",
       "      <td>105.931954</td>\n",
       "      <td>150043.0</td>\n",
       "      <td>909.000000</td>\n",
       "      <td>1674.0</td>\n",
       "      <td>...</td>\n",
       "      <td>245</td>\n",
       "      <td>110</td>\n",
       "      <td>160</td>\n",
       "      <td>4060</td>\n",
       "      <td>3990</td>\n",
       "      <td>87.000000</td>\n",
       "      <td>1.483167</td>\n",
       "      <td>65.956427</td>\n",
       "      <td>148983.680460</td>\n",
       "      <td>146865.041379</td>\n",
       "    </tr>\n",
       "  </tbody>\n",
       "</table>\n",
       "<p>5 rows × 24 columns</p>\n",
       "</div>"
      ],
      "text/plain": [
       "   wagnum       month  target_month  target_day  last_prob  \\\n",
       "0   33361  2023-01-01             0           0   153692.0   \n",
       "1   33364  2023-01-01             0           0   157438.0   \n",
       "2   33366  2023-01-01             0           0   159999.0   \n",
       "3   33358  2023-01-01             0           0    28597.0   \n",
       "4   33349  2023-01-01             0           0   150043.0   \n",
       "\n",
       "   daily_avg_probeg_per_mnth  rolling_daily_avg  ost_prob  days_from_kap_rem  \\\n",
       "0                 207.466667          93.071494  153113.0        1049.000000   \n",
       "1                 227.666667         262.708046  157426.0         820.000000   \n",
       "2                  50.266667          67.653333  159748.0        1937.104444   \n",
       "3                  54.200000          89.137701   28597.0         677.000000   \n",
       "4                 126.533333         105.931954  150043.0         909.000000   \n",
       "\n",
       "   days_from_dep_rem  ...  tara  cnsi_probeg_dr  cnsi_probeg_kr  \\\n",
       "0             1937.0  ...   245             110             160   \n",
       "1             1736.0  ...   245             110             160   \n",
       "2             1003.0  ...   245             110             160   \n",
       "3             1251.0  ...   245             110             160   \n",
       "4             1674.0  ...   245             110             160   \n",
       "\n",
       "   days_from_build  days_to_liq  days_from_pr_rem  tr_rem_cnt_before  \\\n",
       "0             4345         3712         41.000000           2.000000   \n",
       "1             4638         3023         24.000000           1.000000   \n",
       "2             4575         3307         28.000000           2.000000   \n",
       "3             3748         3621         57.193483           1.000000   \n",
       "4             4060         3990         87.000000           1.483167   \n",
       "\n",
       "   days_from_last_tr_rem  predict_probeg_in_10_days  predict_probeg_in_1_mnth  \n",
       "0              92.000000              152182.285057             150320.855172  \n",
       "1              31.000000              154798.919540             149544.758621  \n",
       "2             153.000000              159071.466667             157718.400000  \n",
       "3             153.000000               27705.622989              25922.868966  \n",
       "4              65.956427              148983.680460             146865.041379  \n",
       "\n",
       "[5 rows x 24 columns]"
      ]
     },
     "execution_count": 3,
     "metadata": {},
     "output_type": "execute_result"
    }
   ],
   "source": [
    "train_df.head()"
   ]
  },
  {
   "cell_type": "code",
   "execution_count": 4,
   "id": "4007b88f-07d2-4a28-a235-e1480fd9f95c",
   "metadata": {},
   "outputs": [],
   "source": [
    "train_df.month = pd.to_datetime(train_df.month)\n",
    "train_df_no_dates = train_df"
   ]
  },
  {
   "cell_type": "code",
   "execution_count": 5,
   "id": "d0c6013e-8a4e-44ca-af43-11716796c6fc",
   "metadata": {},
   "outputs": [],
   "source": [
    "X = train_df.drop(columns=['wagnum', 'month', 'target_month', 'target_day'])\n",
    "\n",
    "y = train_df[['target_month', 'target_day']]"
   ]
  },
  {
   "cell_type": "code",
   "execution_count": 6,
   "id": "2029d14c-8f2d-4bf8-9d24-d4798bf75457",
   "metadata": {},
   "outputs": [],
   "source": [
    "X_train, X_test, y_train, y_test = train_test_split(X, y, test_size=0.1, random_state=RANDOM_STATE)"
   ]
  },
  {
   "cell_type": "code",
   "execution_count": 7,
   "id": "f56b2006-e53b-4c74-9ed2-866c8a8a98df",
   "metadata": {},
   "outputs": [],
   "source": [
    "y_train_day = y_train.target_day\n",
    "y_train_month = y_train.target_month\n",
    "y_test_day = y_test.target_day\n",
    "y_test_month = y_test.target_month"
   ]
  },
  {
   "cell_type": "code",
   "execution_count": 8,
   "id": "b3485d66-b3ac-41d2-a5d3-d7923afc25c1",
   "metadata": {},
   "outputs": [],
   "source": [
    "k_fold = 5 \n",
    "stratified_kfold = StratifiedKFold(n_splits=k_fold, shuffle=True)\n",
    "\n",
    "scorer = make_scorer(f1_score, average='weighted')"
   ]
  },
  {
   "cell_type": "code",
   "execution_count": 9,
   "id": "aeeea5bf-a943-4869-806d-52072f80925c",
   "metadata": {},
   "outputs": [
    {
     "data": {
      "text/html": [
       "<style>#sk-container-id-1 {color: black;}#sk-container-id-1 pre{padding: 0;}#sk-container-id-1 div.sk-toggleable {background-color: white;}#sk-container-id-1 label.sk-toggleable__label {cursor: pointer;display: block;width: 100%;margin-bottom: 0;padding: 0.3em;box-sizing: border-box;text-align: center;}#sk-container-id-1 label.sk-toggleable__label-arrow:before {content: \"▸\";float: left;margin-right: 0.25em;color: #696969;}#sk-container-id-1 label.sk-toggleable__label-arrow:hover:before {color: black;}#sk-container-id-1 div.sk-estimator:hover label.sk-toggleable__label-arrow:before {color: black;}#sk-container-id-1 div.sk-toggleable__content {max-height: 0;max-width: 0;overflow: hidden;text-align: left;background-color: #f0f8ff;}#sk-container-id-1 div.sk-toggleable__content pre {margin: 0.2em;color: black;border-radius: 0.25em;background-color: #f0f8ff;}#sk-container-id-1 input.sk-toggleable__control:checked~div.sk-toggleable__content {max-height: 200px;max-width: 100%;overflow: auto;}#sk-container-id-1 input.sk-toggleable__control:checked~label.sk-toggleable__label-arrow:before {content: \"▾\";}#sk-container-id-1 div.sk-estimator input.sk-toggleable__control:checked~label.sk-toggleable__label {background-color: #d4ebff;}#sk-container-id-1 div.sk-label input.sk-toggleable__control:checked~label.sk-toggleable__label {background-color: #d4ebff;}#sk-container-id-1 input.sk-hidden--visually {border: 0;clip: rect(1px 1px 1px 1px);clip: rect(1px, 1px, 1px, 1px);height: 1px;margin: -1px;overflow: hidden;padding: 0;position: absolute;width: 1px;}#sk-container-id-1 div.sk-estimator {font-family: monospace;background-color: #f0f8ff;border: 1px dotted black;border-radius: 0.25em;box-sizing: border-box;margin-bottom: 0.5em;}#sk-container-id-1 div.sk-estimator:hover {background-color: #d4ebff;}#sk-container-id-1 div.sk-parallel-item::after {content: \"\";width: 100%;border-bottom: 1px solid gray;flex-grow: 1;}#sk-container-id-1 div.sk-label:hover label.sk-toggleable__label {background-color: #d4ebff;}#sk-container-id-1 div.sk-serial::before {content: \"\";position: absolute;border-left: 1px solid gray;box-sizing: border-box;top: 0;bottom: 0;left: 50%;z-index: 0;}#sk-container-id-1 div.sk-serial {display: flex;flex-direction: column;align-items: center;background-color: white;padding-right: 0.2em;padding-left: 0.2em;position: relative;}#sk-container-id-1 div.sk-item {position: relative;z-index: 1;}#sk-container-id-1 div.sk-parallel {display: flex;align-items: stretch;justify-content: center;background-color: white;position: relative;}#sk-container-id-1 div.sk-item::before, #sk-container-id-1 div.sk-parallel-item::before {content: \"\";position: absolute;border-left: 1px solid gray;box-sizing: border-box;top: 0;bottom: 0;left: 50%;z-index: -1;}#sk-container-id-1 div.sk-parallel-item {display: flex;flex-direction: column;z-index: 1;position: relative;background-color: white;}#sk-container-id-1 div.sk-parallel-item:first-child::after {align-self: flex-end;width: 50%;}#sk-container-id-1 div.sk-parallel-item:last-child::after {align-self: flex-start;width: 50%;}#sk-container-id-1 div.sk-parallel-item:only-child::after {width: 0;}#sk-container-id-1 div.sk-dashed-wrapped {border: 1px dashed gray;margin: 0 0.4em 0.5em 0.4em;box-sizing: border-box;padding-bottom: 0.4em;background-color: white;}#sk-container-id-1 div.sk-label label {font-family: monospace;font-weight: bold;display: inline-block;line-height: 1.2em;}#sk-container-id-1 div.sk-label-container {text-align: center;}#sk-container-id-1 div.sk-container {/* jupyter's `normalize.less` sets `[hidden] { display: none; }` but bootstrap.min.css set `[hidden] { display: none !important; }` so we also need the `!important` here to be able to override the default hidden behavior on the sphinx rendered scikit-learn.org. See: https://github.com/scikit-learn/scikit-learn/issues/21755 */display: inline-block !important;position: relative;}#sk-container-id-1 div.sk-text-repr-fallback {display: none;}</style><div id=\"sk-container-id-1\" class=\"sk-top-container\"><div class=\"sk-text-repr-fallback\"><pre>GridSearchCV(cv=StratifiedKFold(n_splits=5, random_state=None, shuffle=True),\n",
       "             estimator=&lt;catboost.core.CatBoostClassifier object at 0x0000024BAF506C10&gt;,\n",
       "             n_jobs=-1,\n",
       "             param_grid={&#x27;depth&#x27;: [6, 9], &#x27;iterations&#x27;: [100, 200, 300],\n",
       "                         &#x27;l2_leaf_reg&#x27;: [0.5, 0.7],\n",
       "                         &#x27;learning_rate&#x27;: [0.1, 0.3, 0.5]},\n",
       "             scoring=make_scorer(f1_score, average=weighted))</pre><b>In a Jupyter environment, please rerun this cell to show the HTML representation or trust the notebook. <br />On GitHub, the HTML representation is unable to render, please try loading this page with nbviewer.org.</b></div><div class=\"sk-container\" hidden><div class=\"sk-item sk-dashed-wrapped\"><div class=\"sk-label-container\"><div class=\"sk-label sk-toggleable\"><input class=\"sk-toggleable__control sk-hidden--visually\" id=\"sk-estimator-id-1\" type=\"checkbox\" ><label for=\"sk-estimator-id-1\" class=\"sk-toggleable__label sk-toggleable__label-arrow\">GridSearchCV</label><div class=\"sk-toggleable__content\"><pre>GridSearchCV(cv=StratifiedKFold(n_splits=5, random_state=None, shuffle=True),\n",
       "             estimator=&lt;catboost.core.CatBoostClassifier object at 0x0000024BAF506C10&gt;,\n",
       "             n_jobs=-1,\n",
       "             param_grid={&#x27;depth&#x27;: [6, 9], &#x27;iterations&#x27;: [100, 200, 300],\n",
       "                         &#x27;l2_leaf_reg&#x27;: [0.5, 0.7],\n",
       "                         &#x27;learning_rate&#x27;: [0.1, 0.3, 0.5]},\n",
       "             scoring=make_scorer(f1_score, average=weighted))</pre></div></div></div><div class=\"sk-parallel\"><div class=\"sk-parallel-item\"><div class=\"sk-item\"><div class=\"sk-label-container\"><div class=\"sk-label sk-toggleable\"><input class=\"sk-toggleable__control sk-hidden--visually\" id=\"sk-estimator-id-2\" type=\"checkbox\" ><label for=\"sk-estimator-id-2\" class=\"sk-toggleable__label sk-toggleable__label-arrow\">estimator: CatBoostClassifier</label><div class=\"sk-toggleable__content\"><pre>&lt;catboost.core.CatBoostClassifier object at 0x0000024BAF506C10&gt;</pre></div></div></div><div class=\"sk-serial\"><div class=\"sk-item\"><div class=\"sk-estimator sk-toggleable\"><input class=\"sk-toggleable__control sk-hidden--visually\" id=\"sk-estimator-id-3\" type=\"checkbox\" ><label for=\"sk-estimator-id-3\" class=\"sk-toggleable__label sk-toggleable__label-arrow\">CatBoostClassifier</label><div class=\"sk-toggleable__content\"><pre>&lt;catboost.core.CatBoostClassifier object at 0x0000024BAF506C10&gt;</pre></div></div></div></div></div></div></div></div></div></div>"
      ],
      "text/plain": [
       "GridSearchCV(cv=StratifiedKFold(n_splits=5, random_state=None, shuffle=True),\n",
       "             estimator=<catboost.core.CatBoostClassifier object at 0x0000024BAF506C10>,\n",
       "             n_jobs=-1,\n",
       "             param_grid={'depth': [6, 9], 'iterations': [100, 200, 300],\n",
       "                         'l2_leaf_reg': [0.5, 0.7],\n",
       "                         'learning_rate': [0.1, 0.3, 0.5]},\n",
       "             scoring=make_scorer(f1_score, average=weighted))"
      ]
     },
     "execution_count": 9,
     "metadata": {},
     "output_type": "execute_result"
    }
   ],
   "source": [
    "model_CB = CatBoostClassifier(loss_function='Logloss', verbose=True, random_state=RANDOM_STATE)\n",
    "\n",
    "param_grid_CB = {\n",
    "    'iterations': [100, 200, 300],\n",
    "    'learning_rate': [0.1, 0.3, 0.5],\n",
    "    'depth': [6, 9],\n",
    "    'l2_leaf_reg': [0.5, 0.7]    \n",
    "}\n",
    "gs_CB_day = GridSearchCV(model_CB, param_grid_CB, cv=stratified_kfold, scoring=scorer, n_jobs=-1)\n",
    "gs_CB_day.fit(X_train, y_train_day, verbose=0)\n",
    "\n",
    "gs_CB_month = GridSearchCV(model_CB, param_grid_CB, cv=stratified_kfold, scoring=scorer, n_jobs=-1)\n",
    "gs_CB_month.fit(X_train, y_train_month, verbose=0)"
   ]
  },
  {
   "cell_type": "code",
   "execution_count": 10,
   "id": "88e68c68-369a-4f7a-a4db-9bea122d6671",
   "metadata": {},
   "outputs": [
    {
     "name": "stdout",
     "output_type": "stream",
     "text": [
      "f1_score_day = 0.5068\n",
      "f1_score_month = 0.67333\n",
      "f1_score_sum = 0.59007\n"
     ]
    }
   ],
   "source": [
    "y_pred_day = gs_CB_day.predict(X_test)\n",
    "y_pred_month = gs_CB_month.predict(X_test)\n",
    "\n",
    "print(f'f1_score_day = {f1_score(y_pred_day, y_test_day).round(5)}')\n",
    "print(f'f1_score_month = {f1_score(y_pred_month, y_test_month).round(5)}')\n",
    "print(f'f1_score_sum = {(f1_score(y_pred_day, y_test_day) * 0.5 + f1_score(y_pred_month, y_test_month) * 0.5).round(5)}')"
   ]
  },
  {
   "cell_type": "code",
   "execution_count": 11,
   "id": "d54d5cc0-a9e7-43be-9e21-2f6428a3cafe",
   "metadata": {},
   "outputs": [
    {
     "data": {
      "text/plain": [
       "0.9838723515643444"
      ]
     },
     "execution_count": 11,
     "metadata": {},
     "output_type": "execute_result"
    }
   ],
   "source": [
    "gs_CB_day.best_score_"
   ]
  },
  {
   "cell_type": "code",
   "execution_count": 12,
   "id": "8ea8807c-c281-40ec-bdd2-85ff0dcbc0f7",
   "metadata": {},
   "outputs": [
    {
     "data": {
      "text/plain": [
       "0.9666403848898055"
      ]
     },
     "execution_count": 12,
     "metadata": {},
     "output_type": "execute_result"
    }
   ],
   "source": [
    "gs_CB_month.best_score_"
   ]
  },
  {
   "cell_type": "code",
   "execution_count": 13,
   "id": "c6083b03-f625-44e6-9a99-ca9001a3fd9c",
   "metadata": {},
   "outputs": [],
   "source": [
    "df_pred = pd.read_csv('predict_df.csv', index_col=0)\n",
    "X_pred = df_pred.drop(columns=['wagnum', 'month'])\n",
    "y_predict = pd.read_csv('train/target/y_predict.csv')"
   ]
  },
  {
   "cell_type": "code",
   "execution_count": 14,
   "id": "2ad919a7-e9d8-491e-8a1e-aeea07f8af8c",
   "metadata": {},
   "outputs": [],
   "source": [
    "y_predict = pd.read_csv('train/target/y_predict.csv')\n",
    "day = gs_CB_day.predict(X_pred)\n",
    "month = gs_CB_month.predict(X_pred)\n",
    "y_predict['target_month'] = month\n",
    "y_predict['target_day'] = day\n",
    "y_predict.to_csv('predict_CB_no_feb.csv', index=False)"
   ]
  }
 ],
 "metadata": {
  "kernelspec": {
   "display_name": "Python 3 (ipykernel)",
   "language": "python",
   "name": "python3"
  },
  "language_info": {
   "codemirror_mode": {
    "name": "ipython",
    "version": 3
   },
   "file_extension": ".py",
   "mimetype": "text/x-python",
   "name": "python",
   "nbconvert_exporter": "python",
   "pygments_lexer": "ipython3",
   "version": "3.9.5"
  }
 },
 "nbformat": 4,
 "nbformat_minor": 5
}

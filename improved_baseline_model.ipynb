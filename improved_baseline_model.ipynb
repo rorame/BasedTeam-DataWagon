{
 "cells": [
  {
   "cell_type": "code",
   "execution_count": 1,
   "metadata": {
    "ExecuteTime": {
     "end_time": "2023-10-30T12:12:44.453550500Z",
     "start_time": "2023-10-30T12:12:31.873323700Z"
    },
    "collapsed": false,
    "jupyter": {
     "outputs_hidden": false
    }
   },
   "outputs": [],
   "source": [
    "import pandas as pd\n",
    "import numpy as np"
   ]
  },
  {
   "cell_type": "code",
   "execution_count": 2,
   "metadata": {
    "collapsed": false,
    "jupyter": {
     "outputs_hidden": false
    },
    "pycharm": {
     "name": "#%%\n"
    }
   },
   "outputs": [],
   "source": [
    "from metrics_f1 import calc_f1_score, calc_metrics"
   ]
  },
  {
   "cell_type": "markdown",
   "metadata": {
    "collapsed": false,
    "jupyter": {
     "outputs_hidden": false
    }
   },
   "source": [
    "## Загрузка данных"
   ]
  },
  {
   "cell_type": "code",
   "execution_count": 3,
   "metadata": {
    "collapsed": false,
    "jupyter": {
     "outputs_hidden": false
    },
    "pycharm": {
     "name": "#%%\n"
    }
   },
   "outputs": [],
   "source": [
    "path_train = r\"./\""
   ]
  },
  {
   "cell_type": "code",
   "execution_count": 4,
   "metadata": {
    "collapsed": false,
    "jupyter": {
     "outputs_hidden": false
    },
    "pycharm": {
     "name": "#%%\n"
    }
   },
   "outputs": [],
   "source": [
    "# данные по дислокации\n",
    "dislok = pd.read_parquet(path_train + '/dislok_wagons.parquet').convert_dtypes()\n",
    "# список вагонов с остаточным пробегом на момент прогноза\n",
    "wag_prob = pd.read_parquet(path_train + '/wagons_probeg_ownersip.parquet').convert_dtypes()\n",
    "# параметры вагона\n",
    "wag_param = pd.read_parquet(path_train + '/wag_params.parquet').convert_dtypes()\n",
    "# таргет по прогнозам выбытия вагонов в ПР на месяц и на 10 дней\n",
    "target = pd.read_csv(path_train +'/target/y_train.csv').convert_dtypes()\n",
    "# текущие ремонты вагонов\n",
    "tr_rem = pd.read_parquet(path_train + '/tr_rems.parquet').convert_dtypes()"
   ]
  },
  {
   "cell_type": "code",
   "execution_count": 5,
   "metadata": {
    "collapsed": false,
    "jupyter": {
     "outputs_hidden": false
    },
    "pycharm": {
     "name": "#%%\n"
    }
   },
   "outputs": [],
   "source": [
    "wag_param = wag_param.drop_duplicates(subset='wagnum', keep='last')# у вагонов могут меняться параметры, поэтмоу номер дублируется. В данной модели это фактор не учитывается"
   ]
  },
  {
   "cell_type": "code",
   "execution_count": 6,
   "metadata": {
    "collapsed": false,
    "jupyter": {
     "outputs_hidden": false
    },
    "pycharm": {
     "name": "#%%\n"
    }
   },
   "outputs": [],
   "source": [
    "# !!!! month_to_predict = pd.to_datetime('2022-12-01')\n",
    "month_to_predict = pd.to_datetime('2023-01-01')"
   ]
  },
  {
   "cell_type": "code",
   "execution_count": 7,
   "metadata": {
    "collapsed": false,
    "jupyter": {
     "outputs_hidden": false
    },
    "pycharm": {
     "name": "#%%\n"
    }
   },
   "outputs": [],
   "source": [
    "target.month = pd.to_datetime(target.month)\n",
    "target = target[target.month == month_to_predict][['wagnum','target_month','target_day']]"
   ]
  },
  {
   "cell_type": "code",
   "execution_count": 8,
   "metadata": {
    "collapsed": false,
    "jupyter": {
     "outputs_hidden": false
    },
    "pycharm": {
     "name": "#%%\n"
    }
   },
   "outputs": [
    {
     "data": {
      "text/plain": [
       "(1676, 461)"
      ]
     },
     "execution_count": 8,
     "metadata": {},
     "output_type": "execute_result"
    }
   ],
   "source": [
    "target.target_month.sum(), target.target_day.sum()"
   ]
  },
  {
   "cell_type": "markdown",
   "metadata": {
    "collapsed": false,
    "jupyter": {
     "outputs_hidden": false
    }
   },
   "source": [
    "# Наивная модель"
   ]
  },
  {
   "cell_type": "markdown",
   "metadata": {
    "collapsed": false,
    "jupyter": {
     "outputs_hidden": false
    }
   },
   "source": [
    "Наивная модель будет построена на правилах с использованием минимального набора данных, без применения Ml.\n",
    "\n",
    "Реальный процесс выглядит следующим образом - в начале месяца берется срез по парку по всем вагонам, за ремонт которых несёт ответственность ПГК. Для выбранных вагонов требуется установить, какие из них будут отремонтированы в текущем месяце. Данная информация помогает планировать нагрузку на вагоно-ремонтное предприятие(ВРП). Вторая модель определяет критичные вагоны, которые будут отправлены в ремонт в первую очередь( в ближайшие 10 дней). Это помогает фокусировать внимание диспетчеров.\n",
    "\n",
    "Основными критериями по которым вагон отправляется в плановый ремонт - является его остаточный пробег и срок до планового ремонта.\n",
    "В регламентах РЖД используется следующее правило - если ресурс по пробегу не превышает 500 км и/или плановый ремонт должен наступить через 15 дней(или меньше), то вагон может ехать только на ВРП.\n",
    "Из этого регламента вытекают две особенности:\n",
    "1. Диспетчер старается отправить вагон раньше положенных значений. Это позволяет выбрать предприятия, на которых ремонтироваться дешевле, а не ближайшее.\n",
    "2. Компания-оператор может выбирать какому из нормативов нужно следовать - ремонтировать вагон по сроку, или по пробегу, или по обоим критериям сразу. Поэтому встречаются вагоны, у которых пробег может не отслеживаться.\n",
    "\n",
    "Вагон может быть отправлен в плановый ремонт и раньше положенного. На это может влиять, например, история грузовых операций и количество текущих(мелких) ремонтов. Основная цель участников в данной задаче - найти закономерности и оценить значимые признаки, по которым вагон выбывает в плановый ремонт."
   ]
  },
  {
   "cell_type": "markdown",
   "metadata": {
    "collapsed": false,
    "jupyter": {
     "outputs_hidden": false
    }
   },
   "source": [
    "## Подготовка данных"
   ]
  },
  {
   "cell_type": "code",
   "execution_count": 9,
   "metadata": {},
   "outputs": [
    {
     "data": {
      "text/html": [
       "<div>\n",
       "<style scoped>\n",
       "    .dataframe tbody tr th:only-of-type {\n",
       "        vertical-align: middle;\n",
       "    }\n",
       "\n",
       "    .dataframe tbody tr th {\n",
       "        vertical-align: top;\n",
       "    }\n",
       "\n",
       "    .dataframe thead th {\n",
       "        text-align: right;\n",
       "    }\n",
       "</style>\n",
       "<table border=\"1\" class=\"dataframe\">\n",
       "  <thead>\n",
       "    <tr style=\"text-align: right;\">\n",
       "      <th></th>\n",
       "      <th>repdate</th>\n",
       "      <th>wagnum</th>\n",
       "      <th>ost_prob</th>\n",
       "      <th>manage_type</th>\n",
       "      <th>rod_id</th>\n",
       "      <th>reestr_state</th>\n",
       "      <th>ownership_type</th>\n",
       "      <th>month</th>\n",
       "    </tr>\n",
       "  </thead>\n",
       "  <tbody>\n",
       "    <tr>\n",
       "      <th>178</th>\n",
       "      <td>2023-01-26</td>\n",
       "      <td>33361</td>\n",
       "      <td>151775</td>\n",
       "      <td>0</td>\n",
       "      <td>1</td>\n",
       "      <td>1</td>\n",
       "      <td>0</td>\n",
       "      <td>1</td>\n",
       "    </tr>\n",
       "    <tr>\n",
       "      <th>451</th>\n",
       "      <td>2023-01-26</td>\n",
       "      <td>33364</td>\n",
       "      <td>151122</td>\n",
       "      <td>0</td>\n",
       "      <td>1</td>\n",
       "      <td>1</td>\n",
       "      <td>0</td>\n",
       "      <td>1</td>\n",
       "    </tr>\n",
       "    <tr>\n",
       "      <th>724</th>\n",
       "      <td>2023-01-26</td>\n",
       "      <td>33366</td>\n",
       "      <td>154991</td>\n",
       "      <td>0</td>\n",
       "      <td>1</td>\n",
       "      <td>1</td>\n",
       "      <td>0</td>\n",
       "      <td>1</td>\n",
       "    </tr>\n",
       "    <tr>\n",
       "      <th>997</th>\n",
       "      <td>2023-01-26</td>\n",
       "      <td>33358</td>\n",
       "      <td>25329</td>\n",
       "      <td>0</td>\n",
       "      <td>1</td>\n",
       "      <td>1</td>\n",
       "      <td>0</td>\n",
       "      <td>1</td>\n",
       "    </tr>\n",
       "    <tr>\n",
       "      <th>1270</th>\n",
       "      <td>2023-01-26</td>\n",
       "      <td>33349</td>\n",
       "      <td>145846</td>\n",
       "      <td>0</td>\n",
       "      <td>1</td>\n",
       "      <td>1</td>\n",
       "      <td>0</td>\n",
       "      <td>1</td>\n",
       "    </tr>\n",
       "    <tr>\n",
       "      <th>...</th>\n",
       "      <td>...</td>\n",
       "      <td>...</td>\n",
       "      <td>...</td>\n",
       "      <td>...</td>\n",
       "      <td>...</td>\n",
       "      <td>...</td>\n",
       "      <td>...</td>\n",
       "      <td>...</td>\n",
       "    </tr>\n",
       "    <tr>\n",
       "      <th>9248397</th>\n",
       "      <td>2023-01-26</td>\n",
       "      <td>17621</td>\n",
       "      <td>76882</td>\n",
       "      <td>0</td>\n",
       "      <td>1</td>\n",
       "      <td>1</td>\n",
       "      <td>0</td>\n",
       "      <td>1</td>\n",
       "    </tr>\n",
       "    <tr>\n",
       "      <th>9248670</th>\n",
       "      <td>2023-01-26</td>\n",
       "      <td>25045</td>\n",
       "      <td>140342</td>\n",
       "      <td>0</td>\n",
       "      <td>1</td>\n",
       "      <td>1</td>\n",
       "      <td>0</td>\n",
       "      <td>1</td>\n",
       "    </tr>\n",
       "    <tr>\n",
       "      <th>9248943</th>\n",
       "      <td>2023-01-26</td>\n",
       "      <td>27156</td>\n",
       "      <td>134112</td>\n",
       "      <td>0</td>\n",
       "      <td>1</td>\n",
       "      <td>1</td>\n",
       "      <td>0</td>\n",
       "      <td>1</td>\n",
       "    </tr>\n",
       "    <tr>\n",
       "      <th>9249216</th>\n",
       "      <td>2023-01-26</td>\n",
       "      <td>21361</td>\n",
       "      <td>130952</td>\n",
       "      <td>0</td>\n",
       "      <td>1</td>\n",
       "      <td>1</td>\n",
       "      <td>0</td>\n",
       "      <td>1</td>\n",
       "    </tr>\n",
       "    <tr>\n",
       "      <th>9249453</th>\n",
       "      <td>2023-01-26</td>\n",
       "      <td>8061</td>\n",
       "      <td>149388</td>\n",
       "      <td>0</td>\n",
       "      <td>0</td>\n",
       "      <td>1</td>\n",
       "      <td>0</td>\n",
       "      <td>1</td>\n",
       "    </tr>\n",
       "  </tbody>\n",
       "</table>\n",
       "<p>33709 rows × 8 columns</p>\n",
       "</div>"
      ],
      "text/plain": [
       "           repdate  wagnum  ost_prob  manage_type  rod_id  reestr_state  \\\n",
       "178     2023-01-26   33361    151775            0       1             1   \n",
       "451     2023-01-26   33364    151122            0       1             1   \n",
       "724     2023-01-26   33366    154991            0       1             1   \n",
       "997     2023-01-26   33358     25329            0       1             1   \n",
       "1270    2023-01-26   33349    145846            0       1             1   \n",
       "...            ...     ...       ...          ...     ...           ...   \n",
       "9248397 2023-01-26   17621     76882            0       1             1   \n",
       "9248670 2023-01-26   25045    140342            0       1             1   \n",
       "9248943 2023-01-26   27156    134112            0       1             1   \n",
       "9249216 2023-01-26   21361    130952            0       1             1   \n",
       "9249453 2023-01-26    8061    149388            0       0             1   \n",
       "\n",
       "         ownership_type  month  \n",
       "178                   0      1  \n",
       "451                   0      1  \n",
       "724                   0      1  \n",
       "997                   0      1  \n",
       "1270                  0      1  \n",
       "...                 ...    ...  \n",
       "9248397               0      1  \n",
       "9248670               0      1  \n",
       "9248943               0      1  \n",
       "9249216               0      1  \n",
       "9249453               0      1  \n",
       "\n",
       "[33709 rows x 8 columns]"
      ]
     },
     "execution_count": 9,
     "metadata": {},
     "output_type": "execute_result"
    }
   ],
   "source": [
    "wag_prob[(wag_prob.repdate == pd.to_datetime('2023-01-26'))]"
   ]
  },
  {
   "cell_type": "code",
   "execution_count": 10,
   "metadata": {
    "collapsed": false,
    "jupyter": {
     "outputs_hidden": false
    },
    "pycharm": {
     "name": "#%%\n"
    }
   },
   "outputs": [],
   "source": [
    "# оставим только данные по остаточному пробегу для каждого номерав вагона\n",
    "wag_prob = wag_prob[(wag_prob.repdate == month_to_predict) | (wag_prob.repdate == wag_prob.repdate.min())]"
   ]
  },
  {
   "cell_type": "code",
   "execution_count": 11,
   "metadata": {},
   "outputs": [
    {
     "data": {
      "text/html": [
       "<div>\n",
       "<style scoped>\n",
       "    .dataframe tbody tr th:only-of-type {\n",
       "        vertical-align: middle;\n",
       "    }\n",
       "\n",
       "    .dataframe tbody tr th {\n",
       "        vertical-align: top;\n",
       "    }\n",
       "\n",
       "    .dataframe thead th {\n",
       "        text-align: right;\n",
       "    }\n",
       "</style>\n",
       "<table border=\"1\" class=\"dataframe\">\n",
       "  <thead>\n",
       "    <tr style=\"text-align: right;\">\n",
       "      <th></th>\n",
       "      <th>repdate</th>\n",
       "      <th>wagnum</th>\n",
       "      <th>ost_prob</th>\n",
       "      <th>manage_type</th>\n",
       "      <th>rod_id</th>\n",
       "      <th>reestr_state</th>\n",
       "      <th>ownership_type</th>\n",
       "      <th>month</th>\n",
       "    </tr>\n",
       "  </thead>\n",
       "  <tbody>\n",
       "    <tr>\n",
       "      <th>0</th>\n",
       "      <td>2022-08-01</td>\n",
       "      <td>33361</td>\n",
       "      <td>7541</td>\n",
       "      <td>0</td>\n",
       "      <td>1</td>\n",
       "      <td>1</td>\n",
       "      <td>0</td>\n",
       "      <td>8</td>\n",
       "    </tr>\n",
       "    <tr>\n",
       "      <th>153</th>\n",
       "      <td>2023-01-01</td>\n",
       "      <td>33361</td>\n",
       "      <td>153113</td>\n",
       "      <td>0</td>\n",
       "      <td>1</td>\n",
       "      <td>1</td>\n",
       "      <td>0</td>\n",
       "      <td>1</td>\n",
       "    </tr>\n",
       "    <tr>\n",
       "      <th>273</th>\n",
       "      <td>2022-08-01</td>\n",
       "      <td>33364</td>\n",
       "      <td>37103</td>\n",
       "      <td>0</td>\n",
       "      <td>1</td>\n",
       "      <td>1</td>\n",
       "      <td>0</td>\n",
       "      <td>8</td>\n",
       "    </tr>\n",
       "    <tr>\n",
       "      <th>426</th>\n",
       "      <td>2023-01-01</td>\n",
       "      <td>33364</td>\n",
       "      <td>157426</td>\n",
       "      <td>0</td>\n",
       "      <td>1</td>\n",
       "      <td>1</td>\n",
       "      <td>0</td>\n",
       "      <td>1</td>\n",
       "    </tr>\n",
       "    <tr>\n",
       "      <th>546</th>\n",
       "      <td>2022-08-01</td>\n",
       "      <td>33366</td>\n",
       "      <td>10242</td>\n",
       "      <td>0</td>\n",
       "      <td>1</td>\n",
       "      <td>1</td>\n",
       "      <td>0</td>\n",
       "      <td>8</td>\n",
       "    </tr>\n",
       "  </tbody>\n",
       "</table>\n",
       "</div>"
      ],
      "text/plain": [
       "       repdate  wagnum  ost_prob  manage_type  rod_id  reestr_state  \\\n",
       "0   2022-08-01   33361      7541            0       1             1   \n",
       "153 2023-01-01   33361    153113            0       1             1   \n",
       "273 2022-08-01   33364     37103            0       1             1   \n",
       "426 2023-01-01   33364    157426            0       1             1   \n",
       "546 2022-08-01   33366     10242            0       1             1   \n",
       "\n",
       "     ownership_type  month  \n",
       "0                 0      8  \n",
       "153               0      1  \n",
       "273               0      8  \n",
       "426               0      1  \n",
       "546               0      8  "
      ]
     },
     "execution_count": 11,
     "metadata": {},
     "output_type": "execute_result"
    }
   ],
   "source": [
    "wag_prob.head()"
   ]
  },
  {
   "cell_type": "code",
   "execution_count": 12,
   "metadata": {},
   "outputs": [
    {
     "data": {
      "text/html": [
       "<div>\n",
       "<style scoped>\n",
       "    .dataframe tbody tr th:only-of-type {\n",
       "        vertical-align: middle;\n",
       "    }\n",
       "\n",
       "    .dataframe tbody tr th {\n",
       "        vertical-align: top;\n",
       "    }\n",
       "\n",
       "    .dataframe thead th {\n",
       "        text-align: right;\n",
       "    }\n",
       "</style>\n",
       "<table border=\"1\" class=\"dataframe\">\n",
       "  <thead>\n",
       "    <tr style=\"text-align: right;\">\n",
       "      <th></th>\n",
       "      <th>wagnum</th>\n",
       "      <th>repdate_max</th>\n",
       "      <th>repdate_min</th>\n",
       "      <th>ost_prob_max</th>\n",
       "      <th>ost_prob_min</th>\n",
       "      <th>diff_days</th>\n",
       "      <th>mean_run</th>\n",
       "    </tr>\n",
       "  </thead>\n",
       "  <tbody>\n",
       "    <tr>\n",
       "      <th>0</th>\n",
       "      <td>0</td>\n",
       "      <td>2023-01-01</td>\n",
       "      <td>2022-08-01</td>\n",
       "      <td>82413</td>\n",
       "      <td>57010</td>\n",
       "      <td>153 days 00:00:00</td>\n",
       "      <td>166.03268</td>\n",
       "    </tr>\n",
       "    <tr>\n",
       "      <th>1</th>\n",
       "      <td>1</td>\n",
       "      <td>2023-01-01</td>\n",
       "      <td>2022-08-01</td>\n",
       "      <td>132660</td>\n",
       "      <td>93069</td>\n",
       "      <td>153 days 00:00:00</td>\n",
       "      <td>258.764706</td>\n",
       "    </tr>\n",
       "    <tr>\n",
       "      <th>2</th>\n",
       "      <td>2</td>\n",
       "      <td>2023-01-01</td>\n",
       "      <td>2022-08-01</td>\n",
       "      <td>69345</td>\n",
       "      <td>56136</td>\n",
       "      <td>153 days 00:00:00</td>\n",
       "      <td>86.333333</td>\n",
       "    </tr>\n",
       "    <tr>\n",
       "      <th>3</th>\n",
       "      <td>3</td>\n",
       "      <td>2023-01-01</td>\n",
       "      <td>2022-08-01</td>\n",
       "      <td>83627</td>\n",
       "      <td>66998</td>\n",
       "      <td>153 days 00:00:00</td>\n",
       "      <td>108.686275</td>\n",
       "    </tr>\n",
       "    <tr>\n",
       "      <th>4</th>\n",
       "      <td>4</td>\n",
       "      <td>2023-01-01</td>\n",
       "      <td>2022-08-01</td>\n",
       "      <td>115869</td>\n",
       "      <td>97873</td>\n",
       "      <td>153 days 00:00:00</td>\n",
       "      <td>117.620915</td>\n",
       "    </tr>\n",
       "  </tbody>\n",
       "</table>\n",
       "</div>"
      ],
      "text/plain": [
       "   wagnum repdate_max repdate_min  ost_prob_max  ost_prob_min  \\\n",
       "0       0  2023-01-01  2022-08-01         82413         57010   \n",
       "1       1  2023-01-01  2022-08-01        132660         93069   \n",
       "2       2  2023-01-01  2022-08-01         69345         56136   \n",
       "3       3  2023-01-01  2022-08-01         83627         66998   \n",
       "4       4  2023-01-01  2022-08-01        115869         97873   \n",
       "\n",
       "          diff_days    mean_run  \n",
       "0 153 days 00:00:00   166.03268  \n",
       "1 153 days 00:00:00  258.764706  \n",
       "2 153 days 00:00:00   86.333333  \n",
       "3 153 days 00:00:00  108.686275  \n",
       "4 153 days 00:00:00  117.620915  "
      ]
     },
     "execution_count": 12,
     "metadata": {},
     "output_type": "execute_result"
    }
   ],
   "source": [
    "# оценим среднесуточный пробег из данных по пробегу вагона, на тот случай, если данных по нормативу нет\n",
    "wag_prob_ = wag_prob.groupby('wagnum', as_index = False).agg({'repdate':['max', 'min'] , 'ost_prob': ['max','min']},)#.droplevel(1)\n",
    "wag_prob_.columns = [head+'_' + name\n",
    "                     if head!='wagnum'\n",
    "                     else head\n",
    "                     for head, name in wag_prob_.columns ]\n",
    "\n",
    "wag_prob_['diff_days'] = wag_prob_.repdate_max - wag_prob_.repdate_min\n",
    "wag_prob_['mean_run'] = (wag_prob_.ost_prob_max - wag_prob_.ost_prob_min )/ wag_prob_.diff_days.dt.days\n",
    "\n",
    "wag_prob_.head()"
   ]
  },
  {
   "cell_type": "code",
   "execution_count": 13,
   "metadata": {},
   "outputs": [
    {
     "data": {
      "text/html": [
       "<div>\n",
       "<style scoped>\n",
       "    .dataframe tbody tr th:only-of-type {\n",
       "        vertical-align: middle;\n",
       "    }\n",
       "\n",
       "    .dataframe tbody tr th {\n",
       "        vertical-align: top;\n",
       "    }\n",
       "\n",
       "    .dataframe thead th {\n",
       "        text-align: right;\n",
       "    }\n",
       "</style>\n",
       "<table border=\"1\" class=\"dataframe\">\n",
       "  <thead>\n",
       "    <tr style=\"text-align: right;\">\n",
       "      <th></th>\n",
       "      <th>repdate</th>\n",
       "      <th>wagnum</th>\n",
       "      <th>ost_prob</th>\n",
       "      <th>manage_type</th>\n",
       "      <th>rod_id</th>\n",
       "      <th>reestr_state</th>\n",
       "      <th>ownership_type</th>\n",
       "      <th>month</th>\n",
       "    </tr>\n",
       "  </thead>\n",
       "  <tbody>\n",
       "    <tr>\n",
       "      <th>0</th>\n",
       "      <td>2022-08-01</td>\n",
       "      <td>33361</td>\n",
       "      <td>7541</td>\n",
       "      <td>0</td>\n",
       "      <td>1</td>\n",
       "      <td>1</td>\n",
       "      <td>0</td>\n",
       "      <td>8</td>\n",
       "    </tr>\n",
       "    <tr>\n",
       "      <th>153</th>\n",
       "      <td>2023-01-01</td>\n",
       "      <td>33361</td>\n",
       "      <td>153113</td>\n",
       "      <td>0</td>\n",
       "      <td>1</td>\n",
       "      <td>1</td>\n",
       "      <td>0</td>\n",
       "      <td>1</td>\n",
       "    </tr>\n",
       "    <tr>\n",
       "      <th>273</th>\n",
       "      <td>2022-08-01</td>\n",
       "      <td>33364</td>\n",
       "      <td>37103</td>\n",
       "      <td>0</td>\n",
       "      <td>1</td>\n",
       "      <td>1</td>\n",
       "      <td>0</td>\n",
       "      <td>8</td>\n",
       "    </tr>\n",
       "    <tr>\n",
       "      <th>426</th>\n",
       "      <td>2023-01-01</td>\n",
       "      <td>33364</td>\n",
       "      <td>157426</td>\n",
       "      <td>0</td>\n",
       "      <td>1</td>\n",
       "      <td>1</td>\n",
       "      <td>0</td>\n",
       "      <td>1</td>\n",
       "    </tr>\n",
       "    <tr>\n",
       "      <th>546</th>\n",
       "      <td>2022-08-01</td>\n",
       "      <td>33366</td>\n",
       "      <td>10242</td>\n",
       "      <td>0</td>\n",
       "      <td>1</td>\n",
       "      <td>1</td>\n",
       "      <td>0</td>\n",
       "      <td>8</td>\n",
       "    </tr>\n",
       "    <tr>\n",
       "      <th>699</th>\n",
       "      <td>2023-01-01</td>\n",
       "      <td>33366</td>\n",
       "      <td>159748</td>\n",
       "      <td>0</td>\n",
       "      <td>1</td>\n",
       "      <td>1</td>\n",
       "      <td>0</td>\n",
       "      <td>1</td>\n",
       "    </tr>\n",
       "    <tr>\n",
       "      <th>819</th>\n",
       "      <td>2022-08-01</td>\n",
       "      <td>33358</td>\n",
       "      <td>41827</td>\n",
       "      <td>0</td>\n",
       "      <td>1</td>\n",
       "      <td>1</td>\n",
       "      <td>0</td>\n",
       "      <td>8</td>\n",
       "    </tr>\n",
       "    <tr>\n",
       "      <th>972</th>\n",
       "      <td>2023-01-01</td>\n",
       "      <td>33358</td>\n",
       "      <td>28597</td>\n",
       "      <td>0</td>\n",
       "      <td>1</td>\n",
       "      <td>1</td>\n",
       "      <td>0</td>\n",
       "      <td>1</td>\n",
       "    </tr>\n",
       "    <tr>\n",
       "      <th>1092</th>\n",
       "      <td>2022-08-01</td>\n",
       "      <td>33349</td>\n",
       "      <td>5722</td>\n",
       "      <td>0</td>\n",
       "      <td>1</td>\n",
       "      <td>1</td>\n",
       "      <td>0</td>\n",
       "      <td>8</td>\n",
       "    </tr>\n",
       "    <tr>\n",
       "      <th>1245</th>\n",
       "      <td>2023-01-01</td>\n",
       "      <td>33349</td>\n",
       "      <td>150043</td>\n",
       "      <td>0</td>\n",
       "      <td>1</td>\n",
       "      <td>1</td>\n",
       "      <td>0</td>\n",
       "      <td>1</td>\n",
       "    </tr>\n",
       "  </tbody>\n",
       "</table>\n",
       "</div>"
      ],
      "text/plain": [
       "        repdate  wagnum  ost_prob  manage_type  rod_id  reestr_state  \\\n",
       "0    2022-08-01   33361      7541            0       1             1   \n",
       "153  2023-01-01   33361    153113            0       1             1   \n",
       "273  2022-08-01   33364     37103            0       1             1   \n",
       "426  2023-01-01   33364    157426            0       1             1   \n",
       "546  2022-08-01   33366     10242            0       1             1   \n",
       "699  2023-01-01   33366    159748            0       1             1   \n",
       "819  2022-08-01   33358     41827            0       1             1   \n",
       "972  2023-01-01   33358     28597            0       1             1   \n",
       "1092 2022-08-01   33349      5722            0       1             1   \n",
       "1245 2023-01-01   33349    150043            0       1             1   \n",
       "\n",
       "      ownership_type  month  \n",
       "0                  0      8  \n",
       "153                0      1  \n",
       "273                0      8  \n",
       "426                0      1  \n",
       "546                0      8  \n",
       "699                0      1  \n",
       "819                0      8  \n",
       "972                0      1  \n",
       "1092               0      8  \n",
       "1245               0      1  "
      ]
     },
     "execution_count": 13,
     "metadata": {},
     "output_type": "execute_result"
    }
   ],
   "source": [
    "wag_prob.head(10)"
   ]
  },
  {
   "cell_type": "code",
   "execution_count": 14,
   "metadata": {},
   "outputs": [
    {
     "data": {
      "text/html": [
       "<div>\n",
       "<style scoped>\n",
       "    .dataframe tbody tr th:only-of-type {\n",
       "        vertical-align: middle;\n",
       "    }\n",
       "\n",
       "    .dataframe tbody tr th {\n",
       "        vertical-align: top;\n",
       "    }\n",
       "\n",
       "    .dataframe thead th {\n",
       "        text-align: right;\n",
       "    }\n",
       "</style>\n",
       "<table border=\"1\" class=\"dataframe\">\n",
       "  <thead>\n",
       "    <tr style=\"text-align: right;\">\n",
       "      <th></th>\n",
       "      <th>wagnum</th>\n",
       "      <th>ost_prob</th>\n",
       "      <th>mean_run</th>\n",
       "    </tr>\n",
       "  </thead>\n",
       "  <tbody>\n",
       "    <tr>\n",
       "      <th>0</th>\n",
       "      <td>33361</td>\n",
       "      <td>153113</td>\n",
       "      <td>951.45098</td>\n",
       "    </tr>\n",
       "    <tr>\n",
       "      <th>1</th>\n",
       "      <td>33364</td>\n",
       "      <td>157426</td>\n",
       "      <td>786.424837</td>\n",
       "    </tr>\n",
       "    <tr>\n",
       "      <th>2</th>\n",
       "      <td>33366</td>\n",
       "      <td>159748</td>\n",
       "      <td>977.163399</td>\n",
       "    </tr>\n",
       "    <tr>\n",
       "      <th>3</th>\n",
       "      <td>33358</td>\n",
       "      <td>28597</td>\n",
       "      <td>86.470588</td>\n",
       "    </tr>\n",
       "    <tr>\n",
       "      <th>4</th>\n",
       "      <td>33349</td>\n",
       "      <td>150043</td>\n",
       "      <td>943.27451</td>\n",
       "    </tr>\n",
       "  </tbody>\n",
       "</table>\n",
       "</div>"
      ],
      "text/plain": [
       "   wagnum  ost_prob    mean_run\n",
       "0   33361    153113   951.45098\n",
       "1   33364    157426  786.424837\n",
       "2   33366    159748  977.163399\n",
       "3   33358     28597   86.470588\n",
       "4   33349    150043   943.27451"
      ]
     },
     "execution_count": 14,
     "metadata": {},
     "output_type": "execute_result"
    }
   ],
   "source": [
    "wag_prob = wag_prob[wag_prob.repdate == wag_prob.repdate.max()][['wagnum','ost_prob']]\n",
    "wag_prob = wag_prob.merge(wag_prob_[['wagnum','mean_run']])\n",
    "\n",
    "wag_prob.head()"
   ]
  },
  {
   "cell_type": "code",
   "execution_count": 15,
   "metadata": {
    "collapsed": false,
    "jupyter": {
     "outputs_hidden": false
    },
    "pycharm": {
     "name": "#%%\n"
    }
   },
   "outputs": [
    {
     "data": {
      "text/html": [
       "<div>\n",
       "<style scoped>\n",
       "    .dataframe tbody tr th:only-of-type {\n",
       "        vertical-align: middle;\n",
       "    }\n",
       "\n",
       "    .dataframe tbody tr th {\n",
       "        vertical-align: top;\n",
       "    }\n",
       "\n",
       "    .dataframe thead th {\n",
       "        text-align: right;\n",
       "    }\n",
       "</style>\n",
       "<table border=\"1\" class=\"dataframe\">\n",
       "  <thead>\n",
       "    <tr style=\"text-align: right;\">\n",
       "      <th></th>\n",
       "      <th>wagnum</th>\n",
       "      <th>srok_sl</th>\n",
       "      <th>cnsi_probeg_dr</th>\n",
       "      <th>cnsi_probeg_kr</th>\n",
       "    </tr>\n",
       "  </thead>\n",
       "  <tbody>\n",
       "    <tr>\n",
       "      <th>3218</th>\n",
       "      <td>26318</td>\n",
       "      <td>2022-04-27</td>\n",
       "      <td>160</td>\n",
       "      <td>160</td>\n",
       "    </tr>\n",
       "    <tr>\n",
       "      <th>19128</th>\n",
       "      <td>28344</td>\n",
       "      <td>2024-12-24</td>\n",
       "      <td>110</td>\n",
       "      <td>160</td>\n",
       "    </tr>\n",
       "    <tr>\n",
       "      <th>21526</th>\n",
       "      <td>8099</td>\n",
       "      <td>2027-10-01</td>\n",
       "      <td>110</td>\n",
       "      <td>160</td>\n",
       "    </tr>\n",
       "    <tr>\n",
       "      <th>32353</th>\n",
       "      <td>33350</td>\n",
       "      <td>2047-02-05</td>\n",
       "      <td>250</td>\n",
       "      <td>500</td>\n",
       "    </tr>\n",
       "    <tr>\n",
       "      <th>81</th>\n",
       "      <td>5308</td>\n",
       "      <td>2027-09-28</td>\n",
       "      <td>110</td>\n",
       "      <td>160</td>\n",
       "    </tr>\n",
       "  </tbody>\n",
       "</table>\n",
       "</div>"
      ],
      "text/plain": [
       "       wagnum    srok_sl  cnsi_probeg_dr  cnsi_probeg_kr\n",
       "3218    26318 2022-04-27             160             160\n",
       "19128   28344 2024-12-24             110             160\n",
       "21526    8099 2027-10-01             110             160\n",
       "32353   33350 2047-02-05             250             500\n",
       "81       5308 2027-09-28             110             160"
      ]
     },
     "execution_count": 15,
     "metadata": {},
     "output_type": "execute_result"
    }
   ],
   "source": [
    "# для каждого вагона оставим только информацию по сроку службы и нормативу суточного пробега между ПР\n",
    "wag_param = wag_param[['wagnum','srok_sl','cnsi_probeg_dr','cnsi_probeg_kr']]\n",
    "\n",
    "wag_param.head()"
   ]
  },
  {
   "cell_type": "code",
   "execution_count": 16,
   "metadata": {
    "collapsed": false,
    "jupyter": {
     "outputs_hidden": false
    },
    "pycharm": {
     "name": "#%%\n"
    }
   },
   "outputs": [
    {
     "data": {
      "text/html": [
       "<div>\n",
       "<style scoped>\n",
       "    .dataframe tbody tr th:only-of-type {\n",
       "        vertical-align: middle;\n",
       "    }\n",
       "\n",
       "    .dataframe tbody tr th {\n",
       "        vertical-align: top;\n",
       "    }\n",
       "\n",
       "    .dataframe thead th {\n",
       "        text-align: right;\n",
       "    }\n",
       "</style>\n",
       "<table border=\"1\" class=\"dataframe\">\n",
       "  <thead>\n",
       "    <tr style=\"text-align: right;\">\n",
       "      <th></th>\n",
       "      <th>wagnum</th>\n",
       "      <th>kod_vrab</th>\n",
       "    </tr>\n",
       "  </thead>\n",
       "  <tbody>\n",
       "    <tr>\n",
       "      <th>0</th>\n",
       "      <td>0</td>\n",
       "      <td>2</td>\n",
       "    </tr>\n",
       "    <tr>\n",
       "      <th>1</th>\n",
       "      <td>2</td>\n",
       "      <td>2</td>\n",
       "    </tr>\n",
       "    <tr>\n",
       "      <th>2</th>\n",
       "      <td>3</td>\n",
       "      <td>2</td>\n",
       "    </tr>\n",
       "    <tr>\n",
       "      <th>3</th>\n",
       "      <td>6</td>\n",
       "      <td>9</td>\n",
       "    </tr>\n",
       "    <tr>\n",
       "      <th>4</th>\n",
       "      <td>8</td>\n",
       "      <td>2</td>\n",
       "    </tr>\n",
       "  </tbody>\n",
       "</table>\n",
       "</div>"
      ],
      "text/plain": [
       "   wagnum  kod_vrab\n",
       "0       0         2\n",
       "1       2         2\n",
       "2       3         2\n",
       "3       6         9\n",
       "4       8         2"
      ]
     },
     "execution_count": 16,
     "metadata": {},
     "output_type": "execute_result"
    }
   ],
   "source": [
    "# посчитаем сколько текущих ремонтов было за прошедший период\n",
    "tr_rem = tr_rem.groupby('wagnum', as_index= False).kod_vrab.count()\n",
    "\n",
    "tr_rem.head()"
   ]
  },
  {
   "cell_type": "code",
   "execution_count": 17,
   "metadata": {
    "collapsed": false,
    "jupyter": {
     "outputs_hidden": false
    },
    "pycharm": {
     "name": "#%%\n"
    }
   },
   "outputs": [
    {
     "data": {
      "text/html": [
       "<div>\n",
       "<style scoped>\n",
       "    .dataframe tbody tr th:only-of-type {\n",
       "        vertical-align: middle;\n",
       "    }\n",
       "\n",
       "    .dataframe tbody tr th {\n",
       "        vertical-align: top;\n",
       "    }\n",
       "\n",
       "    .dataframe thead th {\n",
       "        text-align: right;\n",
       "    }\n",
       "</style>\n",
       "<table border=\"1\" class=\"dataframe\">\n",
       "  <thead>\n",
       "    <tr style=\"text-align: right;\">\n",
       "      <th></th>\n",
       "      <th>wagnum</th>\n",
       "      <th>date_pl_rem</th>\n",
       "    </tr>\n",
       "  </thead>\n",
       "  <tbody>\n",
       "    <tr>\n",
       "      <th>347</th>\n",
       "      <td>11219</td>\n",
       "      <td>2019-06-27</td>\n",
       "    </tr>\n",
       "    <tr>\n",
       "      <th>25426</th>\n",
       "      <td>33350</td>\n",
       "      <td>2022-07-25</td>\n",
       "    </tr>\n",
       "    <tr>\n",
       "      <th>216913</th>\n",
       "      <td>8099</td>\n",
       "      <td>2023-04-20</td>\n",
       "    </tr>\n",
       "    <tr>\n",
       "      <th>730409</th>\n",
       "      <td>28344</td>\n",
       "      <td>2022-11-30</td>\n",
       "    </tr>\n",
       "    <tr>\n",
       "      <th>993683</th>\n",
       "      <td>26318</td>\n",
       "      <td>2023-01-01</td>\n",
       "    </tr>\n",
       "  </tbody>\n",
       "</table>\n",
       "</div>"
      ],
      "text/plain": [
       "        wagnum date_pl_rem\n",
       "347      11219  2019-06-27\n",
       "25426    33350  2022-07-25\n",
       "216913    8099  2023-04-20\n",
       "730409   28344  2022-11-30\n",
       "993683   26318  2023-01-01"
      ]
     },
     "execution_count": 17,
     "metadata": {},
     "output_type": "execute_result"
    }
   ],
   "source": [
    "# сохраним только дату следующего планового ремонта для вагона\n",
    "dislok = dislok[['wagnum','date_pl_rem']].drop_duplicates(subset = 'wagnum', keep='last')\n",
    "\n",
    "dislok.head()"
   ]
  },
  {
   "cell_type": "code",
   "execution_count": 18,
   "metadata": {
    "collapsed": false,
    "jupyter": {
     "outputs_hidden": false
    },
    "pycharm": {
     "name": "#%%\n"
    }
   },
   "outputs": [
    {
     "data": {
      "text/html": [
       "<div>\n",
       "<style scoped>\n",
       "    .dataframe tbody tr th:only-of-type {\n",
       "        vertical-align: middle;\n",
       "    }\n",
       "\n",
       "    .dataframe tbody tr th {\n",
       "        vertical-align: top;\n",
       "    }\n",
       "\n",
       "    .dataframe thead th {\n",
       "        text-align: right;\n",
       "    }\n",
       "</style>\n",
       "<table border=\"1\" class=\"dataframe\">\n",
       "  <thead>\n",
       "    <tr style=\"text-align: right;\">\n",
       "      <th></th>\n",
       "      <th>wagnum</th>\n",
       "      <th>srok_sl</th>\n",
       "      <th>cnsi_probeg_dr</th>\n",
       "      <th>cnsi_probeg_kr</th>\n",
       "      <th>ost_prob</th>\n",
       "      <th>mean_run</th>\n",
       "      <th>kod_vrab</th>\n",
       "      <th>date_pl_rem</th>\n",
       "    </tr>\n",
       "  </thead>\n",
       "  <tbody>\n",
       "    <tr>\n",
       "      <th>0</th>\n",
       "      <td>33361</td>\n",
       "      <td>2033-03-01</td>\n",
       "      <td>110</td>\n",
       "      <td>160</td>\n",
       "      <td>153113</td>\n",
       "      <td>951.45098</td>\n",
       "      <td>3.0</td>\n",
       "      <td>2023-02-17</td>\n",
       "    </tr>\n",
       "    <tr>\n",
       "      <th>1</th>\n",
       "      <td>33364</td>\n",
       "      <td>2031-04-12</td>\n",
       "      <td>110</td>\n",
       "      <td>160</td>\n",
       "      <td>157426</td>\n",
       "      <td>786.424837</td>\n",
       "      <td>2.0</td>\n",
       "      <td>2023-10-03</td>\n",
       "    </tr>\n",
       "    <tr>\n",
       "      <th>2</th>\n",
       "      <td>33366</td>\n",
       "      <td>2032-01-21</td>\n",
       "      <td>110</td>\n",
       "      <td>160</td>\n",
       "      <td>159748</td>\n",
       "      <td>977.163399</td>\n",
       "      <td>2.0</td>\n",
       "      <td>2023-04-03</td>\n",
       "    </tr>\n",
       "    <tr>\n",
       "      <th>3</th>\n",
       "      <td>33358</td>\n",
       "      <td>2032-11-30</td>\n",
       "      <td>110</td>\n",
       "      <td>160</td>\n",
       "      <td>28597</td>\n",
       "      <td>86.470588</td>\n",
       "      <td>2.0</td>\n",
       "      <td>2024-02-23</td>\n",
       "    </tr>\n",
       "    <tr>\n",
       "      <th>4</th>\n",
       "      <td>33349</td>\n",
       "      <td>2033-12-04</td>\n",
       "      <td>110</td>\n",
       "      <td>160</td>\n",
       "      <td>150043</td>\n",
       "      <td>943.27451</td>\n",
       "      <td>NaN</td>\n",
       "      <td>2023-07-06</td>\n",
       "    </tr>\n",
       "  </tbody>\n",
       "</table>\n",
       "</div>"
      ],
      "text/plain": [
       "   wagnum    srok_sl  cnsi_probeg_dr  cnsi_probeg_kr  ost_prob    mean_run  \\\n",
       "0   33361 2033-03-01             110             160    153113   951.45098   \n",
       "1   33364 2031-04-12             110             160    157426  786.424837   \n",
       "2   33366 2032-01-21             110             160    159748  977.163399   \n",
       "3   33358 2032-11-30             110             160     28597   86.470588   \n",
       "4   33349 2033-12-04             110             160    150043   943.27451   \n",
       "\n",
       "   kod_vrab date_pl_rem  \n",
       "0       3.0  2023-02-17  \n",
       "1       2.0  2023-10-03  \n",
       "2       2.0  2023-04-03  \n",
       "3       2.0  2024-02-23  \n",
       "4       NaN  2023-07-06  "
      ]
     },
     "execution_count": 18,
     "metadata": {},
     "output_type": "execute_result"
    }
   ],
   "source": [
    "# соберем все данные вместе\n",
    "wp = target[['wagnum']].merge(wag_param, on ='wagnum', how = 'left')\\\n",
    "             .merge(wag_prob, how = 'left')\\\n",
    "             .merge(tr_rem, how = 'left')\\\n",
    "             .merge(dislok, how = 'left')\n",
    "\n",
    "wp.head()"
   ]
  },
  {
   "cell_type": "code",
   "execution_count": 19,
   "metadata": {
    "collapsed": false,
    "jupyter": {
     "outputs_hidden": false
    },
    "pycharm": {
     "name": "#%%\n"
    }
   },
   "outputs": [
    {
     "data": {
      "text/html": [
       "<div>\n",
       "<style scoped>\n",
       "    .dataframe tbody tr th:only-of-type {\n",
       "        vertical-align: middle;\n",
       "    }\n",
       "\n",
       "    .dataframe tbody tr th {\n",
       "        vertical-align: top;\n",
       "    }\n",
       "\n",
       "    .dataframe thead th {\n",
       "        text-align: right;\n",
       "    }\n",
       "</style>\n",
       "<table border=\"1\" class=\"dataframe\">\n",
       "  <thead>\n",
       "    <tr style=\"text-align: right;\">\n",
       "      <th></th>\n",
       "      <th>wagnum</th>\n",
       "      <th>srok_sl</th>\n",
       "      <th>cnsi_probeg_dr</th>\n",
       "      <th>cnsi_probeg_kr</th>\n",
       "      <th>ost_prob</th>\n",
       "      <th>mean_run</th>\n",
       "      <th>kod_vrab</th>\n",
       "      <th>date_pl_rem</th>\n",
       "      <th>day_run</th>\n",
       "    </tr>\n",
       "  </thead>\n",
       "  <tbody>\n",
       "    <tr>\n",
       "      <th>0</th>\n",
       "      <td>33361</td>\n",
       "      <td>2033-03-01</td>\n",
       "      <td>110</td>\n",
       "      <td>160</td>\n",
       "      <td>153113</td>\n",
       "      <td>951.45098</td>\n",
       "      <td>3.0</td>\n",
       "      <td>2023-02-17</td>\n",
       "      <td>407.150327</td>\n",
       "    </tr>\n",
       "    <tr>\n",
       "      <th>1</th>\n",
       "      <td>33364</td>\n",
       "      <td>2031-04-12</td>\n",
       "      <td>110</td>\n",
       "      <td>160</td>\n",
       "      <td>157426</td>\n",
       "      <td>786.424837</td>\n",
       "      <td>2.0</td>\n",
       "      <td>2023-10-03</td>\n",
       "      <td>352.141612</td>\n",
       "    </tr>\n",
       "    <tr>\n",
       "      <th>2</th>\n",
       "      <td>33366</td>\n",
       "      <td>2032-01-21</td>\n",
       "      <td>110</td>\n",
       "      <td>160</td>\n",
       "      <td>159748</td>\n",
       "      <td>977.163399</td>\n",
       "      <td>2.0</td>\n",
       "      <td>2023-04-03</td>\n",
       "      <td>415.721133</td>\n",
       "    </tr>\n",
       "    <tr>\n",
       "      <th>3</th>\n",
       "      <td>33358</td>\n",
       "      <td>2032-11-30</td>\n",
       "      <td>110</td>\n",
       "      <td>160</td>\n",
       "      <td>28597</td>\n",
       "      <td>86.470588</td>\n",
       "      <td>2.0</td>\n",
       "      <td>2024-02-23</td>\n",
       "      <td>118.823529</td>\n",
       "    </tr>\n",
       "    <tr>\n",
       "      <th>4</th>\n",
       "      <td>33349</td>\n",
       "      <td>2033-12-04</td>\n",
       "      <td>110</td>\n",
       "      <td>160</td>\n",
       "      <td>150043</td>\n",
       "      <td>943.27451</td>\n",
       "      <td>NaN</td>\n",
       "      <td>2023-07-06</td>\n",
       "      <td>404.424837</td>\n",
       "    </tr>\n",
       "  </tbody>\n",
       "</table>\n",
       "</div>"
      ],
      "text/plain": [
       "   wagnum    srok_sl  cnsi_probeg_dr  cnsi_probeg_kr  ost_prob    mean_run  \\\n",
       "0   33361 2033-03-01             110             160    153113   951.45098   \n",
       "1   33364 2031-04-12             110             160    157426  786.424837   \n",
       "2   33366 2032-01-21             110             160    159748  977.163399   \n",
       "3   33358 2032-11-30             110             160     28597   86.470588   \n",
       "4   33349 2033-12-04             110             160    150043   943.27451   \n",
       "\n",
       "   kod_vrab date_pl_rem     day_run  \n",
       "0       3.0  2023-02-17  407.150327  \n",
       "1       2.0  2023-10-03  352.141612  \n",
       "2       2.0  2023-04-03  415.721133  \n",
       "3       2.0  2024-02-23  118.823529  \n",
       "4       NaN  2023-07-06  404.424837  "
      ]
     },
     "execution_count": 19,
     "metadata": {},
     "output_type": "execute_result"
    }
   ],
   "source": [
    "# Получим среднесуточный пробег, как среднее от нормативов и реального пробега\n",
    "wp[['cnsi_probeg_dr','cnsi_probeg_kr','mean_run']] = wp[['cnsi_probeg_dr','cnsi_probeg_kr','mean_run']].fillna(0)\n",
    "wp['day_run'] = wp.apply(lambda x : [val  for val in [x.cnsi_probeg_kr, x.cnsi_probeg_dr, x.mean_run] if val != 0], axis = 1 )\n",
    "wp['day_run']= wp.apply(lambda x : np.mean(x.day_run) if len(x.day_run)> 0 else 0, axis = 1 )\n",
    "wp.head()"
   ]
  },
  {
   "cell_type": "code",
   "execution_count": 20,
   "metadata": {},
   "outputs": [
    {
     "data": {
      "text/plain": [
       "\"\\nwp[['cnsi_probeg_dr','cnsi_probeg_kr','mean_run']] = wp[['cnsi_probeg_dr','cnsi_probeg_kr','mean_run']].fillna(0)\\nwp['day_run'] = wp['mean_run']\\nwp.head()\\n\""
      ]
     },
     "execution_count": 20,
     "metadata": {},
     "output_type": "execute_result"
    }
   ],
   "source": [
    "# !!!!\n",
    "# x.cnsi_probeg_kr, x.cnsi_probeg_dr, x.mean_run - разных порядков, первые два в тыс. км, mean_run просто в км\n",
    "# можно попробовать в day_run сразу записать mean_run, но\n",
    "# ухудшает на сотую\n",
    "'''\n",
    "wp[['cnsi_probeg_dr','cnsi_probeg_kr','mean_run']] = wp[['cnsi_probeg_dr','cnsi_probeg_kr','mean_run']].fillna(0)\n",
    "wp['day_run'] = wp['mean_run']\n",
    "wp.head()\n",
    "'''"
   ]
  },
  {
   "cell_type": "code",
   "execution_count": 21,
   "metadata": {
    "collapsed": false,
    "jupyter": {
     "outputs_hidden": false
    },
    "pycharm": {
     "name": "#%%\n"
    }
   },
   "outputs": [],
   "source": [
    "wp['current_date'] = month_to_predict"
   ]
  },
  {
   "cell_type": "code",
   "execution_count": 22,
   "metadata": {
    "collapsed": false,
    "jupyter": {
     "outputs_hidden": false
    },
    "pycharm": {
     "name": "#%%\n"
    }
   },
   "outputs": [],
   "source": [
    "# определим, сколько дней осталось до истечения срока службы\n",
    "wp['date_diff_srk_sl'] = wp['srok_sl'] - wp['current_date']"
   ]
  },
  {
   "cell_type": "code",
   "execution_count": 23,
   "metadata": {},
   "outputs": [
    {
     "data": {
      "text/plain": [
       "date_diff_srk_sl\n",
       "False    33938\n",
       "True        35\n",
       "Name: count, dtype: int64"
      ]
     },
     "execution_count": 23,
     "metadata": {},
     "output_type": "execute_result"
    }
   ],
   "source": [
    "# !!!!!!!\n",
    "# вагоны, срок службы которых заканчивается точно не поедут на ПР. Исключим их в дальейшем\n",
    "(wp['date_diff_srk_sl'] < pd.to_timedelta(0)).value_counts()"
   ]
  },
  {
   "cell_type": "code",
   "execution_count": 24,
   "metadata": {
    "collapsed": false,
    "jupyter": {
     "outputs_hidden": false
    },
    "pycharm": {
     "name": "#%%\n"
    }
   },
   "outputs": [
    {
     "data": {
      "text/html": [
       "<div>\n",
       "<style scoped>\n",
       "    .dataframe tbody tr th:only-of-type {\n",
       "        vertical-align: middle;\n",
       "    }\n",
       "\n",
       "    .dataframe tbody tr th {\n",
       "        vertical-align: top;\n",
       "    }\n",
       "\n",
       "    .dataframe thead th {\n",
       "        text-align: right;\n",
       "    }\n",
       "</style>\n",
       "<table border=\"1\" class=\"dataframe\">\n",
       "  <thead>\n",
       "    <tr style=\"text-align: right;\">\n",
       "      <th></th>\n",
       "      <th>wagnum</th>\n",
       "      <th>srok_sl</th>\n",
       "      <th>cnsi_probeg_dr</th>\n",
       "      <th>cnsi_probeg_kr</th>\n",
       "      <th>ost_prob</th>\n",
       "      <th>mean_run</th>\n",
       "      <th>kod_vrab</th>\n",
       "      <th>date_pl_rem</th>\n",
       "      <th>day_run</th>\n",
       "      <th>current_date</th>\n",
       "      <th>date_diff_srk_sl</th>\n",
       "      <th>date_diff_pl_rem</th>\n",
       "    </tr>\n",
       "  </thead>\n",
       "  <tbody>\n",
       "    <tr>\n",
       "      <th>0</th>\n",
       "      <td>33361</td>\n",
       "      <td>2033-03-01</td>\n",
       "      <td>110</td>\n",
       "      <td>160</td>\n",
       "      <td>153113</td>\n",
       "      <td>951.45098</td>\n",
       "      <td>3.0</td>\n",
       "      <td>2023-02-17</td>\n",
       "      <td>407.150327</td>\n",
       "      <td>2023-01-01</td>\n",
       "      <td>3712 days</td>\n",
       "      <td>47 days</td>\n",
       "    </tr>\n",
       "    <tr>\n",
       "      <th>1</th>\n",
       "      <td>33364</td>\n",
       "      <td>2031-04-12</td>\n",
       "      <td>110</td>\n",
       "      <td>160</td>\n",
       "      <td>157426</td>\n",
       "      <td>786.424837</td>\n",
       "      <td>2.0</td>\n",
       "      <td>2023-10-03</td>\n",
       "      <td>352.141612</td>\n",
       "      <td>2023-01-01</td>\n",
       "      <td>3023 days</td>\n",
       "      <td>275 days</td>\n",
       "    </tr>\n",
       "    <tr>\n",
       "      <th>2</th>\n",
       "      <td>33366</td>\n",
       "      <td>2032-01-21</td>\n",
       "      <td>110</td>\n",
       "      <td>160</td>\n",
       "      <td>159748</td>\n",
       "      <td>977.163399</td>\n",
       "      <td>2.0</td>\n",
       "      <td>2023-04-03</td>\n",
       "      <td>415.721133</td>\n",
       "      <td>2023-01-01</td>\n",
       "      <td>3307 days</td>\n",
       "      <td>92 days</td>\n",
       "    </tr>\n",
       "    <tr>\n",
       "      <th>3</th>\n",
       "      <td>33358</td>\n",
       "      <td>2032-11-30</td>\n",
       "      <td>110</td>\n",
       "      <td>160</td>\n",
       "      <td>28597</td>\n",
       "      <td>86.470588</td>\n",
       "      <td>2.0</td>\n",
       "      <td>2024-02-23</td>\n",
       "      <td>118.823529</td>\n",
       "      <td>2023-01-01</td>\n",
       "      <td>3621 days</td>\n",
       "      <td>418 days</td>\n",
       "    </tr>\n",
       "    <tr>\n",
       "      <th>4</th>\n",
       "      <td>33349</td>\n",
       "      <td>2033-12-04</td>\n",
       "      <td>110</td>\n",
       "      <td>160</td>\n",
       "      <td>150043</td>\n",
       "      <td>943.27451</td>\n",
       "      <td>NaN</td>\n",
       "      <td>2023-07-06</td>\n",
       "      <td>404.424837</td>\n",
       "      <td>2023-01-01</td>\n",
       "      <td>3990 days</td>\n",
       "      <td>186 days</td>\n",
       "    </tr>\n",
       "    <tr>\n",
       "      <th>5</th>\n",
       "      <td>33354</td>\n",
       "      <td>2031-03-24</td>\n",
       "      <td>110</td>\n",
       "      <td>160</td>\n",
       "      <td>15237</td>\n",
       "      <td>100.823529</td>\n",
       "      <td>NaN</td>\n",
       "      <td>2023-07-29</td>\n",
       "      <td>123.607843</td>\n",
       "      <td>2023-01-01</td>\n",
       "      <td>3004 days</td>\n",
       "      <td>209 days</td>\n",
       "    </tr>\n",
       "    <tr>\n",
       "      <th>6</th>\n",
       "      <td>33355</td>\n",
       "      <td>2031-12-17</td>\n",
       "      <td>110</td>\n",
       "      <td>160</td>\n",
       "      <td>8730</td>\n",
       "      <td>121.071895</td>\n",
       "      <td>2.0</td>\n",
       "      <td>2024-01-14</td>\n",
       "      <td>130.357298</td>\n",
       "      <td>2023-01-01</td>\n",
       "      <td>3272 days</td>\n",
       "      <td>378 days</td>\n",
       "    </tr>\n",
       "    <tr>\n",
       "      <th>7</th>\n",
       "      <td>33356</td>\n",
       "      <td>2033-11-17</td>\n",
       "      <td>110</td>\n",
       "      <td>160</td>\n",
       "      <td>141461</td>\n",
       "      <td>860.535948</td>\n",
       "      <td>NaN</td>\n",
       "      <td>2022-09-28</td>\n",
       "      <td>376.845316</td>\n",
       "      <td>2023-01-01</td>\n",
       "      <td>3973 days</td>\n",
       "      <td>-95 days</td>\n",
       "    </tr>\n",
       "    <tr>\n",
       "      <th>8</th>\n",
       "      <td>33370</td>\n",
       "      <td>2032-08-28</td>\n",
       "      <td>110</td>\n",
       "      <td>160</td>\n",
       "      <td>152431</td>\n",
       "      <td>880.026144</td>\n",
       "      <td>NaN</td>\n",
       "      <td>2023-07-04</td>\n",
       "      <td>383.342048</td>\n",
       "      <td>2023-01-01</td>\n",
       "      <td>3527 days</td>\n",
       "      <td>184 days</td>\n",
       "    </tr>\n",
       "    <tr>\n",
       "      <th>9</th>\n",
       "      <td>33373</td>\n",
       "      <td>2050-02-12</td>\n",
       "      <td>350</td>\n",
       "      <td>500</td>\n",
       "      <td>343038</td>\n",
       "      <td>2135.098039</td>\n",
       "      <td>NaN</td>\n",
       "      <td>2023-03-20</td>\n",
       "      <td>995.032680</td>\n",
       "      <td>2023-01-01</td>\n",
       "      <td>9904 days</td>\n",
       "      <td>78 days</td>\n",
       "    </tr>\n",
       "  </tbody>\n",
       "</table>\n",
       "</div>"
      ],
      "text/plain": [
       "   wagnum    srok_sl  cnsi_probeg_dr  cnsi_probeg_kr  ost_prob     mean_run  \\\n",
       "0   33361 2033-03-01             110             160    153113    951.45098   \n",
       "1   33364 2031-04-12             110             160    157426   786.424837   \n",
       "2   33366 2032-01-21             110             160    159748   977.163399   \n",
       "3   33358 2032-11-30             110             160     28597    86.470588   \n",
       "4   33349 2033-12-04             110             160    150043    943.27451   \n",
       "5   33354 2031-03-24             110             160     15237   100.823529   \n",
       "6   33355 2031-12-17             110             160      8730   121.071895   \n",
       "7   33356 2033-11-17             110             160    141461   860.535948   \n",
       "8   33370 2032-08-28             110             160    152431   880.026144   \n",
       "9   33373 2050-02-12             350             500    343038  2135.098039   \n",
       "\n",
       "   kod_vrab date_pl_rem     day_run current_date date_diff_srk_sl  \\\n",
       "0       3.0  2023-02-17  407.150327   2023-01-01        3712 days   \n",
       "1       2.0  2023-10-03  352.141612   2023-01-01        3023 days   \n",
       "2       2.0  2023-04-03  415.721133   2023-01-01        3307 days   \n",
       "3       2.0  2024-02-23  118.823529   2023-01-01        3621 days   \n",
       "4       NaN  2023-07-06  404.424837   2023-01-01        3990 days   \n",
       "5       NaN  2023-07-29  123.607843   2023-01-01        3004 days   \n",
       "6       2.0  2024-01-14  130.357298   2023-01-01        3272 days   \n",
       "7       NaN  2022-09-28  376.845316   2023-01-01        3973 days   \n",
       "8       NaN  2023-07-04  383.342048   2023-01-01        3527 days   \n",
       "9       NaN  2023-03-20  995.032680   2023-01-01        9904 days   \n",
       "\n",
       "  date_diff_pl_rem  \n",
       "0          47 days  \n",
       "1         275 days  \n",
       "2          92 days  \n",
       "3         418 days  \n",
       "4         186 days  \n",
       "5         209 days  \n",
       "6         378 days  \n",
       "7         -95 days  \n",
       "8         184 days  \n",
       "9          78 days  "
      ]
     },
     "execution_count": 24,
     "metadata": {},
     "output_type": "execute_result"
    }
   ],
   "source": [
    "# определим, сколько дней осталось до ближайшего ПР\n",
    "wp['date_diff_pl_rem'] = wp['date_pl_rem'] - wp['current_date']\n",
    "wp.head(10)"
   ]
  },
  {
   "cell_type": "code",
   "execution_count": 25,
   "metadata": {},
   "outputs": [
    {
     "data": {
      "text/plain": [
       "date_diff_pl_rem\n",
       "False    31025\n",
       "True      2948\n",
       "Name: count, dtype: int64"
      ]
     },
     "execution_count": 25,
     "metadata": {},
     "output_type": "execute_result"
    }
   ],
   "source": [
    "# !!!!!!!\n",
    "# вагоны, которые уйдут на ремонт до нашей даты. Исключим их в дальейшем\n",
    "(wp['date_diff_pl_rem'] < pd.to_timedelta(0)).value_counts()"
   ]
  },
  {
   "cell_type": "code",
   "execution_count": 26,
   "metadata": {},
   "outputs": [],
   "source": [
    "# !!!!! \n",
    "# заполним пропуски для своих расчётов здесь, чтобы prob_end_month тоже был без пропусков\n",
    "wp.ost_prob = wp.ost_prob.fillna(160000)\n",
    "wp.day_run = wp.day_run.fillna(wp.day_run.mean())"
   ]
  },
  {
   "cell_type": "code",
   "execution_count": 27,
   "metadata": {},
   "outputs": [
    {
     "data": {
      "text/html": [
       "<div>\n",
       "<style scoped>\n",
       "    .dataframe tbody tr th:only-of-type {\n",
       "        vertical-align: middle;\n",
       "    }\n",
       "\n",
       "    .dataframe tbody tr th {\n",
       "        vertical-align: top;\n",
       "    }\n",
       "\n",
       "    .dataframe thead th {\n",
       "        text-align: right;\n",
       "    }\n",
       "</style>\n",
       "<table border=\"1\" class=\"dataframe\">\n",
       "  <thead>\n",
       "    <tr style=\"text-align: right;\">\n",
       "      <th></th>\n",
       "      <th>wagnum</th>\n",
       "      <th>srok_sl</th>\n",
       "      <th>cnsi_probeg_dr</th>\n",
       "      <th>cnsi_probeg_kr</th>\n",
       "      <th>ost_prob</th>\n",
       "      <th>mean_run</th>\n",
       "      <th>kod_vrab</th>\n",
       "      <th>date_pl_rem</th>\n",
       "      <th>day_run</th>\n",
       "      <th>current_date</th>\n",
       "      <th>date_diff_srk_sl</th>\n",
       "      <th>date_diff_pl_rem</th>\n",
       "    </tr>\n",
       "  </thead>\n",
       "  <tbody>\n",
       "    <tr>\n",
       "      <th>0</th>\n",
       "      <td>33361</td>\n",
       "      <td>2033-03-01</td>\n",
       "      <td>110</td>\n",
       "      <td>160</td>\n",
       "      <td>153113</td>\n",
       "      <td>951.45098</td>\n",
       "      <td>3.0</td>\n",
       "      <td>2023-02-17</td>\n",
       "      <td>407.150327</td>\n",
       "      <td>2023-01-01</td>\n",
       "      <td>3712 days</td>\n",
       "      <td>47 days</td>\n",
       "    </tr>\n",
       "    <tr>\n",
       "      <th>1</th>\n",
       "      <td>33364</td>\n",
       "      <td>2031-04-12</td>\n",
       "      <td>110</td>\n",
       "      <td>160</td>\n",
       "      <td>157426</td>\n",
       "      <td>786.424837</td>\n",
       "      <td>2.0</td>\n",
       "      <td>2023-10-03</td>\n",
       "      <td>352.141612</td>\n",
       "      <td>2023-01-01</td>\n",
       "      <td>3023 days</td>\n",
       "      <td>275 days</td>\n",
       "    </tr>\n",
       "    <tr>\n",
       "      <th>2</th>\n",
       "      <td>33366</td>\n",
       "      <td>2032-01-21</td>\n",
       "      <td>110</td>\n",
       "      <td>160</td>\n",
       "      <td>159748</td>\n",
       "      <td>977.163399</td>\n",
       "      <td>2.0</td>\n",
       "      <td>2023-04-03</td>\n",
       "      <td>415.721133</td>\n",
       "      <td>2023-01-01</td>\n",
       "      <td>3307 days</td>\n",
       "      <td>92 days</td>\n",
       "    </tr>\n",
       "    <tr>\n",
       "      <th>3</th>\n",
       "      <td>33358</td>\n",
       "      <td>2032-11-30</td>\n",
       "      <td>110</td>\n",
       "      <td>160</td>\n",
       "      <td>28597</td>\n",
       "      <td>86.470588</td>\n",
       "      <td>2.0</td>\n",
       "      <td>2024-02-23</td>\n",
       "      <td>118.823529</td>\n",
       "      <td>2023-01-01</td>\n",
       "      <td>3621 days</td>\n",
       "      <td>418 days</td>\n",
       "    </tr>\n",
       "    <tr>\n",
       "      <th>4</th>\n",
       "      <td>33349</td>\n",
       "      <td>2033-12-04</td>\n",
       "      <td>110</td>\n",
       "      <td>160</td>\n",
       "      <td>150043</td>\n",
       "      <td>943.27451</td>\n",
       "      <td>NaN</td>\n",
       "      <td>2023-07-06</td>\n",
       "      <td>404.424837</td>\n",
       "      <td>2023-01-01</td>\n",
       "      <td>3990 days</td>\n",
       "      <td>186 days</td>\n",
       "    </tr>\n",
       "    <tr>\n",
       "      <th>...</th>\n",
       "      <td>...</td>\n",
       "      <td>...</td>\n",
       "      <td>...</td>\n",
       "      <td>...</td>\n",
       "      <td>...</td>\n",
       "      <td>...</td>\n",
       "      <td>...</td>\n",
       "      <td>...</td>\n",
       "      <td>...</td>\n",
       "      <td>...</td>\n",
       "      <td>...</td>\n",
       "      <td>...</td>\n",
       "    </tr>\n",
       "    <tr>\n",
       "      <th>33968</th>\n",
       "      <td>17621</td>\n",
       "      <td>2032-11-12</td>\n",
       "      <td>110</td>\n",
       "      <td>160</td>\n",
       "      <td>83554</td>\n",
       "      <td>187.679739</td>\n",
       "      <td>NaN</td>\n",
       "      <td>2024-11-09</td>\n",
       "      <td>152.559913</td>\n",
       "      <td>2023-01-01</td>\n",
       "      <td>3603 days</td>\n",
       "      <td>678 days</td>\n",
       "    </tr>\n",
       "    <tr>\n",
       "      <th>33969</th>\n",
       "      <td>25045</td>\n",
       "      <td>2034-08-30</td>\n",
       "      <td>110</td>\n",
       "      <td>160</td>\n",
       "      <td>143729</td>\n",
       "      <td>820.575163</td>\n",
       "      <td>NaN</td>\n",
       "      <td>2023-06-29</td>\n",
       "      <td>363.525054</td>\n",
       "      <td>2023-01-01</td>\n",
       "      <td>4259 days</td>\n",
       "      <td>179 days</td>\n",
       "    </tr>\n",
       "    <tr>\n",
       "      <th>33970</th>\n",
       "      <td>27156</td>\n",
       "      <td>2030-12-18</td>\n",
       "      <td>110</td>\n",
       "      <td>160</td>\n",
       "      <td>146545</td>\n",
       "      <td>886.052288</td>\n",
       "      <td>4.0</td>\n",
       "      <td>2023-06-27</td>\n",
       "      <td>385.350763</td>\n",
       "      <td>2023-01-01</td>\n",
       "      <td>2908 days</td>\n",
       "      <td>177 days</td>\n",
       "    </tr>\n",
       "    <tr>\n",
       "      <th>33971</th>\n",
       "      <td>21361</td>\n",
       "      <td>2028-03-04</td>\n",
       "      <td>160</td>\n",
       "      <td>160</td>\n",
       "      <td>136814</td>\n",
       "      <td>795.54902</td>\n",
       "      <td>NaN</td>\n",
       "      <td>2023-06-08</td>\n",
       "      <td>371.849673</td>\n",
       "      <td>2023-01-01</td>\n",
       "      <td>1889 days</td>\n",
       "      <td>158 days</td>\n",
       "    </tr>\n",
       "    <tr>\n",
       "      <th>33972</th>\n",
       "      <td>8061</td>\n",
       "      <td>2025-10-10</td>\n",
       "      <td>110</td>\n",
       "      <td>160</td>\n",
       "      <td>149388</td>\n",
       "      <td>NaN</td>\n",
       "      <td>NaN</td>\n",
       "      <td>2022-10-08</td>\n",
       "      <td>207.883553</td>\n",
       "      <td>2023-01-01</td>\n",
       "      <td>1013 days</td>\n",
       "      <td>-85 days</td>\n",
       "    </tr>\n",
       "  </tbody>\n",
       "</table>\n",
       "<p>33973 rows × 12 columns</p>\n",
       "</div>"
      ],
      "text/plain": [
       "       wagnum    srok_sl  cnsi_probeg_dr  cnsi_probeg_kr  ost_prob  \\\n",
       "0       33361 2033-03-01             110             160    153113   \n",
       "1       33364 2031-04-12             110             160    157426   \n",
       "2       33366 2032-01-21             110             160    159748   \n",
       "3       33358 2032-11-30             110             160     28597   \n",
       "4       33349 2033-12-04             110             160    150043   \n",
       "...       ...        ...             ...             ...       ...   \n",
       "33968   17621 2032-11-12             110             160     83554   \n",
       "33969   25045 2034-08-30             110             160    143729   \n",
       "33970   27156 2030-12-18             110             160    146545   \n",
       "33971   21361 2028-03-04             160             160    136814   \n",
       "33972    8061 2025-10-10             110             160    149388   \n",
       "\n",
       "         mean_run  kod_vrab date_pl_rem     day_run current_date  \\\n",
       "0       951.45098       3.0  2023-02-17  407.150327   2023-01-01   \n",
       "1      786.424837       2.0  2023-10-03  352.141612   2023-01-01   \n",
       "2      977.163399       2.0  2023-04-03  415.721133   2023-01-01   \n",
       "3       86.470588       2.0  2024-02-23  118.823529   2023-01-01   \n",
       "4       943.27451       NaN  2023-07-06  404.424837   2023-01-01   \n",
       "...           ...       ...         ...         ...          ...   \n",
       "33968  187.679739       NaN  2024-11-09  152.559913   2023-01-01   \n",
       "33969  820.575163       NaN  2023-06-29  363.525054   2023-01-01   \n",
       "33970  886.052288       4.0  2023-06-27  385.350763   2023-01-01   \n",
       "33971   795.54902       NaN  2023-06-08  371.849673   2023-01-01   \n",
       "33972         NaN       NaN  2022-10-08  207.883553   2023-01-01   \n",
       "\n",
       "      date_diff_srk_sl date_diff_pl_rem  \n",
       "0            3712 days          47 days  \n",
       "1            3023 days         275 days  \n",
       "2            3307 days          92 days  \n",
       "3            3621 days         418 days  \n",
       "4            3990 days         186 days  \n",
       "...                ...              ...  \n",
       "33968        3603 days         678 days  \n",
       "33969        4259 days         179 days  \n",
       "33970        2908 days         177 days  \n",
       "33971        1889 days         158 days  \n",
       "33972        1013 days         -85 days  \n",
       "\n",
       "[33973 rows x 12 columns]"
      ]
     },
     "execution_count": 27,
     "metadata": {},
     "output_type": "execute_result"
    }
   ],
   "source": [
    "wp"
   ]
  },
  {
   "cell_type": "code",
   "execution_count": 28,
   "metadata": {
    "collapsed": false,
    "jupyter": {
     "outputs_hidden": false
    },
    "pycharm": {
     "name": "#%%\n"
    }
   },
   "outputs": [],
   "source": [
    "# определим, какой остаточный ресурс будет на момент окончания месяца\n",
    "wp['prob_end_month'] = wp['ost_prob'] - wp['day_run'] * 30"
   ]
  },
  {
   "cell_type": "code",
   "execution_count": 29,
   "metadata": {},
   "outputs": [
    {
     "data": {
      "text/html": [
       "<div>\n",
       "<style scoped>\n",
       "    .dataframe tbody tr th:only-of-type {\n",
       "        vertical-align: middle;\n",
       "    }\n",
       "\n",
       "    .dataframe tbody tr th {\n",
       "        vertical-align: top;\n",
       "    }\n",
       "\n",
       "    .dataframe thead th {\n",
       "        text-align: right;\n",
       "    }\n",
       "</style>\n",
       "<table border=\"1\" class=\"dataframe\">\n",
       "  <thead>\n",
       "    <tr style=\"text-align: right;\">\n",
       "      <th></th>\n",
       "      <th>wagnum</th>\n",
       "      <th>srok_sl</th>\n",
       "      <th>cnsi_probeg_dr</th>\n",
       "      <th>cnsi_probeg_kr</th>\n",
       "      <th>ost_prob</th>\n",
       "      <th>mean_run</th>\n",
       "      <th>kod_vrab</th>\n",
       "      <th>date_pl_rem</th>\n",
       "      <th>day_run</th>\n",
       "      <th>current_date</th>\n",
       "      <th>date_diff_srk_sl</th>\n",
       "      <th>date_diff_pl_rem</th>\n",
       "      <th>prob_end_month</th>\n",
       "    </tr>\n",
       "  </thead>\n",
       "  <tbody>\n",
       "    <tr>\n",
       "      <th>0</th>\n",
       "      <td>33361</td>\n",
       "      <td>2033-03-01</td>\n",
       "      <td>110</td>\n",
       "      <td>160</td>\n",
       "      <td>153113</td>\n",
       "      <td>951.45098</td>\n",
       "      <td>3.0</td>\n",
       "      <td>2023-02-17</td>\n",
       "      <td>407.150327</td>\n",
       "      <td>2023-01-01</td>\n",
       "      <td>3712 days</td>\n",
       "      <td>47 days</td>\n",
       "      <td>140898.490196</td>\n",
       "    </tr>\n",
       "    <tr>\n",
       "      <th>1</th>\n",
       "      <td>33364</td>\n",
       "      <td>2031-04-12</td>\n",
       "      <td>110</td>\n",
       "      <td>160</td>\n",
       "      <td>157426</td>\n",
       "      <td>786.424837</td>\n",
       "      <td>2.0</td>\n",
       "      <td>2023-10-03</td>\n",
       "      <td>352.141612</td>\n",
       "      <td>2023-01-01</td>\n",
       "      <td>3023 days</td>\n",
       "      <td>275 days</td>\n",
       "      <td>146861.751634</td>\n",
       "    </tr>\n",
       "    <tr>\n",
       "      <th>2</th>\n",
       "      <td>33366</td>\n",
       "      <td>2032-01-21</td>\n",
       "      <td>110</td>\n",
       "      <td>160</td>\n",
       "      <td>159748</td>\n",
       "      <td>977.163399</td>\n",
       "      <td>2.0</td>\n",
       "      <td>2023-04-03</td>\n",
       "      <td>415.721133</td>\n",
       "      <td>2023-01-01</td>\n",
       "      <td>3307 days</td>\n",
       "      <td>92 days</td>\n",
       "      <td>147276.366013</td>\n",
       "    </tr>\n",
       "    <tr>\n",
       "      <th>3</th>\n",
       "      <td>33358</td>\n",
       "      <td>2032-11-30</td>\n",
       "      <td>110</td>\n",
       "      <td>160</td>\n",
       "      <td>28597</td>\n",
       "      <td>86.470588</td>\n",
       "      <td>2.0</td>\n",
       "      <td>2024-02-23</td>\n",
       "      <td>118.823529</td>\n",
       "      <td>2023-01-01</td>\n",
       "      <td>3621 days</td>\n",
       "      <td>418 days</td>\n",
       "      <td>25032.294118</td>\n",
       "    </tr>\n",
       "    <tr>\n",
       "      <th>4</th>\n",
       "      <td>33349</td>\n",
       "      <td>2033-12-04</td>\n",
       "      <td>110</td>\n",
       "      <td>160</td>\n",
       "      <td>150043</td>\n",
       "      <td>943.27451</td>\n",
       "      <td>NaN</td>\n",
       "      <td>2023-07-06</td>\n",
       "      <td>404.424837</td>\n",
       "      <td>2023-01-01</td>\n",
       "      <td>3990 days</td>\n",
       "      <td>186 days</td>\n",
       "      <td>137910.254902</td>\n",
       "    </tr>\n",
       "    <tr>\n",
       "      <th>5</th>\n",
       "      <td>33354</td>\n",
       "      <td>2031-03-24</td>\n",
       "      <td>110</td>\n",
       "      <td>160</td>\n",
       "      <td>15237</td>\n",
       "      <td>100.823529</td>\n",
       "      <td>NaN</td>\n",
       "      <td>2023-07-29</td>\n",
       "      <td>123.607843</td>\n",
       "      <td>2023-01-01</td>\n",
       "      <td>3004 days</td>\n",
       "      <td>209 days</td>\n",
       "      <td>11528.764706</td>\n",
       "    </tr>\n",
       "    <tr>\n",
       "      <th>6</th>\n",
       "      <td>33355</td>\n",
       "      <td>2031-12-17</td>\n",
       "      <td>110</td>\n",
       "      <td>160</td>\n",
       "      <td>8730</td>\n",
       "      <td>121.071895</td>\n",
       "      <td>2.0</td>\n",
       "      <td>2024-01-14</td>\n",
       "      <td>130.357298</td>\n",
       "      <td>2023-01-01</td>\n",
       "      <td>3272 days</td>\n",
       "      <td>378 days</td>\n",
       "      <td>4819.281046</td>\n",
       "    </tr>\n",
       "    <tr>\n",
       "      <th>7</th>\n",
       "      <td>33356</td>\n",
       "      <td>2033-11-17</td>\n",
       "      <td>110</td>\n",
       "      <td>160</td>\n",
       "      <td>141461</td>\n",
       "      <td>860.535948</td>\n",
       "      <td>NaN</td>\n",
       "      <td>2022-09-28</td>\n",
       "      <td>376.845316</td>\n",
       "      <td>2023-01-01</td>\n",
       "      <td>3973 days</td>\n",
       "      <td>-95 days</td>\n",
       "      <td>130155.640523</td>\n",
       "    </tr>\n",
       "    <tr>\n",
       "      <th>8</th>\n",
       "      <td>33370</td>\n",
       "      <td>2032-08-28</td>\n",
       "      <td>110</td>\n",
       "      <td>160</td>\n",
       "      <td>152431</td>\n",
       "      <td>880.026144</td>\n",
       "      <td>NaN</td>\n",
       "      <td>2023-07-04</td>\n",
       "      <td>383.342048</td>\n",
       "      <td>2023-01-01</td>\n",
       "      <td>3527 days</td>\n",
       "      <td>184 days</td>\n",
       "      <td>140930.738562</td>\n",
       "    </tr>\n",
       "    <tr>\n",
       "      <th>9</th>\n",
       "      <td>33373</td>\n",
       "      <td>2050-02-12</td>\n",
       "      <td>350</td>\n",
       "      <td>500</td>\n",
       "      <td>343038</td>\n",
       "      <td>2135.098039</td>\n",
       "      <td>NaN</td>\n",
       "      <td>2023-03-20</td>\n",
       "      <td>995.032680</td>\n",
       "      <td>2023-01-01</td>\n",
       "      <td>9904 days</td>\n",
       "      <td>78 days</td>\n",
       "      <td>313187.019608</td>\n",
       "    </tr>\n",
       "  </tbody>\n",
       "</table>\n",
       "</div>"
      ],
      "text/plain": [
       "   wagnum    srok_sl  cnsi_probeg_dr  cnsi_probeg_kr  ost_prob     mean_run  \\\n",
       "0   33361 2033-03-01             110             160    153113    951.45098   \n",
       "1   33364 2031-04-12             110             160    157426   786.424837   \n",
       "2   33366 2032-01-21             110             160    159748   977.163399   \n",
       "3   33358 2032-11-30             110             160     28597    86.470588   \n",
       "4   33349 2033-12-04             110             160    150043    943.27451   \n",
       "5   33354 2031-03-24             110             160     15237   100.823529   \n",
       "6   33355 2031-12-17             110             160      8730   121.071895   \n",
       "7   33356 2033-11-17             110             160    141461   860.535948   \n",
       "8   33370 2032-08-28             110             160    152431   880.026144   \n",
       "9   33373 2050-02-12             350             500    343038  2135.098039   \n",
       "\n",
       "   kod_vrab date_pl_rem     day_run current_date date_diff_srk_sl  \\\n",
       "0       3.0  2023-02-17  407.150327   2023-01-01        3712 days   \n",
       "1       2.0  2023-10-03  352.141612   2023-01-01        3023 days   \n",
       "2       2.0  2023-04-03  415.721133   2023-01-01        3307 days   \n",
       "3       2.0  2024-02-23  118.823529   2023-01-01        3621 days   \n",
       "4       NaN  2023-07-06  404.424837   2023-01-01        3990 days   \n",
       "5       NaN  2023-07-29  123.607843   2023-01-01        3004 days   \n",
       "6       2.0  2024-01-14  130.357298   2023-01-01        3272 days   \n",
       "7       NaN  2022-09-28  376.845316   2023-01-01        3973 days   \n",
       "8       NaN  2023-07-04  383.342048   2023-01-01        3527 days   \n",
       "9       NaN  2023-03-20  995.032680   2023-01-01        9904 days   \n",
       "\n",
       "  date_diff_pl_rem  prob_end_month  \n",
       "0          47 days   140898.490196  \n",
       "1         275 days   146861.751634  \n",
       "2          92 days   147276.366013  \n",
       "3         418 days    25032.294118  \n",
       "4         186 days   137910.254902  \n",
       "5         209 days    11528.764706  \n",
       "6         378 days     4819.281046  \n",
       "7         -95 days   130155.640523  \n",
       "8         184 days   140930.738562  \n",
       "9          78 days   313187.019608  "
      ]
     },
     "execution_count": 29,
     "metadata": {},
     "output_type": "execute_result"
    }
   ],
   "source": [
    "wp.head(10)"
   ]
  },
  {
   "cell_type": "code",
   "execution_count": 30,
   "metadata": {
    "scrolled": true
   },
   "outputs": [],
   "source": [
    "# !!!!!!!!!!!!\n",
    "# у нас есть prob_end_month которые отрицательные, то есть их ресурс закончится до конца месяца.\n",
    "# Но у некоторых ресурс закончится сильно заранее, то есть ещё до начала месяца.\n",
    "# Нужно вычислить эти случаи, разделив отрицательные prob_end_month на среднесуточный пробег,\n",
    "# получив тем самым количество дней, насколько раньше конца месяца закончится ресурс,\n",
    "# и откинув те вагоны, ресурс которых закончится раньше, чем за 30 дней до конца месяца (это потом).\n",
    "wp['prob_end_month_fixed'] = wp.apply(lambda x: x.prob_end_month / x.day_run if x.prob_end_month < 0 else x.prob_end_month, axis=1)"
   ]
  },
  {
   "cell_type": "code",
   "execution_count": 31,
   "metadata": {},
   "outputs": [
    {
     "data": {
      "text/html": [
       "<div>\n",
       "<style scoped>\n",
       "    .dataframe tbody tr th:only-of-type {\n",
       "        vertical-align: middle;\n",
       "    }\n",
       "\n",
       "    .dataframe tbody tr th {\n",
       "        vertical-align: top;\n",
       "    }\n",
       "\n",
       "    .dataframe thead th {\n",
       "        text-align: right;\n",
       "    }\n",
       "</style>\n",
       "<table border=\"1\" class=\"dataframe\">\n",
       "  <thead>\n",
       "    <tr style=\"text-align: right;\">\n",
       "      <th></th>\n",
       "      <th>wagnum</th>\n",
       "      <th>srok_sl</th>\n",
       "      <th>cnsi_probeg_dr</th>\n",
       "      <th>cnsi_probeg_kr</th>\n",
       "      <th>ost_prob</th>\n",
       "      <th>mean_run</th>\n",
       "      <th>kod_vrab</th>\n",
       "      <th>date_pl_rem</th>\n",
       "      <th>day_run</th>\n",
       "      <th>current_date</th>\n",
       "      <th>date_diff_srk_sl</th>\n",
       "      <th>date_diff_pl_rem</th>\n",
       "      <th>prob_end_month</th>\n",
       "      <th>prob_end_month_fixed</th>\n",
       "    </tr>\n",
       "  </thead>\n",
       "  <tbody>\n",
       "    <tr>\n",
       "      <th>1002</th>\n",
       "      <td>11772</td>\n",
       "      <td>2024-12-30</td>\n",
       "      <td>110</td>\n",
       "      <td>160</td>\n",
       "      <td>-859</td>\n",
       "      <td>240.633987</td>\n",
       "      <td>3.0</td>\n",
       "      <td>2023-12-14</td>\n",
       "      <td>170.211329</td>\n",
       "      <td>2023-01-01</td>\n",
       "      <td>729 days</td>\n",
       "      <td>347 days</td>\n",
       "      <td>-5965.339869</td>\n",
       "      <td>-35.046668</td>\n",
       "    </tr>\n",
       "    <tr>\n",
       "      <th>2342</th>\n",
       "      <td>12577</td>\n",
       "      <td>2033-01-25</td>\n",
       "      <td>110</td>\n",
       "      <td>160</td>\n",
       "      <td>-1332</td>\n",
       "      <td>178.228758</td>\n",
       "      <td>NaN</td>\n",
       "      <td>2023-09-29</td>\n",
       "      <td>149.409586</td>\n",
       "      <td>2023-01-01</td>\n",
       "      <td>3677 days</td>\n",
       "      <td>271 days</td>\n",
       "      <td>-5814.287582</td>\n",
       "      <td>-38.915091</td>\n",
       "    </tr>\n",
       "    <tr>\n",
       "      <th>4685</th>\n",
       "      <td>21098</td>\n",
       "      <td>2032-02-21</td>\n",
       "      <td>110</td>\n",
       "      <td>160</td>\n",
       "      <td>-277</td>\n",
       "      <td>192.261438</td>\n",
       "      <td>NaN</td>\n",
       "      <td>2024-04-28</td>\n",
       "      <td>154.087146</td>\n",
       "      <td>2023-01-01</td>\n",
       "      <td>3338 days</td>\n",
       "      <td>483 days</td>\n",
       "      <td>-4899.614379</td>\n",
       "      <td>-31.797684</td>\n",
       "    </tr>\n",
       "    <tr>\n",
       "      <th>4843</th>\n",
       "      <td>21607</td>\n",
       "      <td>2032-04-16</td>\n",
       "      <td>110</td>\n",
       "      <td>160</td>\n",
       "      <td>-164</td>\n",
       "      <td>207.810458</td>\n",
       "      <td>4.0</td>\n",
       "      <td>2023-08-31</td>\n",
       "      <td>159.270153</td>\n",
       "      <td>2023-01-01</td>\n",
       "      <td>3393 days</td>\n",
       "      <td>242 days</td>\n",
       "      <td>-4942.104575</td>\n",
       "      <td>-31.029697</td>\n",
       "    </tr>\n",
       "    <tr>\n",
       "      <th>4933</th>\n",
       "      <td>21176</td>\n",
       "      <td>2030-02-20</td>\n",
       "      <td>110</td>\n",
       "      <td>160</td>\n",
       "      <td>-181</td>\n",
       "      <td>160.594771</td>\n",
       "      <td>NaN</td>\n",
       "      <td>2024-02-20</td>\n",
       "      <td>143.531590</td>\n",
       "      <td>2023-01-01</td>\n",
       "      <td>2607 days</td>\n",
       "      <td>415 days</td>\n",
       "      <td>-4486.947712</td>\n",
       "      <td>-31.261046</td>\n",
       "    </tr>\n",
       "  </tbody>\n",
       "</table>\n",
       "</div>"
      ],
      "text/plain": [
       "      wagnum    srok_sl  cnsi_probeg_dr  cnsi_probeg_kr  ost_prob    mean_run  \\\n",
       "1002   11772 2024-12-30             110             160      -859  240.633987   \n",
       "2342   12577 2033-01-25             110             160     -1332  178.228758   \n",
       "4685   21098 2032-02-21             110             160      -277  192.261438   \n",
       "4843   21607 2032-04-16             110             160      -164  207.810458   \n",
       "4933   21176 2030-02-20             110             160      -181  160.594771   \n",
       "\n",
       "      kod_vrab date_pl_rem     day_run current_date date_diff_srk_sl  \\\n",
       "1002       3.0  2023-12-14  170.211329   2023-01-01         729 days   \n",
       "2342       NaN  2023-09-29  149.409586   2023-01-01        3677 days   \n",
       "4685       NaN  2024-04-28  154.087146   2023-01-01        3338 days   \n",
       "4843       4.0  2023-08-31  159.270153   2023-01-01        3393 days   \n",
       "4933       NaN  2024-02-20  143.531590   2023-01-01        2607 days   \n",
       "\n",
       "     date_diff_pl_rem  prob_end_month  prob_end_month_fixed  \n",
       "1002         347 days    -5965.339869            -35.046668  \n",
       "2342         271 days    -5814.287582            -38.915091  \n",
       "4685         483 days    -4899.614379            -31.797684  \n",
       "4843         242 days    -4942.104575            -31.029697  \n",
       "4933         415 days    -4486.947712            -31.261046  "
      ]
     },
     "execution_count": 31,
     "metadata": {},
     "output_type": "execute_result"
    }
   ],
   "source": [
    "# !!!!!\n",
    "# prob_end_month_fixed у 14003 -63.9 - то есть ресурс закончится за 64 дня до конца месяца. Исключим его потом.\n",
    "wp[(wp.prob_end_month_fixed < -31)].head()"
   ]
  },
  {
   "cell_type": "code",
   "execution_count": 32,
   "metadata": {},
   "outputs": [
    {
     "data": {
      "text/plain": [
       "75"
      ]
     },
     "execution_count": 32,
     "metadata": {},
     "output_type": "execute_result"
    }
   ],
   "source": [
    "# !!!!!!!!!\n",
    "wp[(wp.prob_end_month_fixed < -31)]['wagnum'].count()"
   ]
  },
  {
   "cell_type": "code",
   "execution_count": 33,
   "metadata": {
    "collapsed": false,
    "jupyter": {
     "outputs_hidden": false
    },
    "pycharm": {
     "name": "#%%\n"
    }
   },
   "outputs": [],
   "source": [
    "wp['target_month'] = 0\n",
    "\n",
    "# вагон выбывает в ПР в следующем месяце, если:\n",
    "# остаточный пробег < 5 000 км\n",
    "# срок службы < 500 дней\n",
    "# до следующего  ПР < 40 дней\n",
    "# ,число текущих ремонтов > 5\n",
    "wp.loc[(wp.prob_end_month <= 5000) & (wp.prob_end_month_fixed > -30)\\\n",
    "       | (wp.date_diff_srk_sl < pd.to_timedelta(500)) & (wp.date_diff_srk_sl > pd.to_timedelta(0))\\\n",
    "        | (wp.date_diff_pl_rem < pd.to_timedelta(40)) & (wp.date_diff_pl_rem > pd.to_timedelta(0)) \\\n",
    "        | (wp.kod_vrab > 50),'target_month'] = 1\n",
    "\n",
    "\n",
    "# замена wp.kod_vrab > 5 на 50 поднимает метрику до 0.271, то есть стоит отказаться от этого параметра\n",
    "# (wp.prob_end_month_fixed > -30) немного ухудшает, на сотую\n",
    "# wp.date_diff_srk_sl > pd.to_timedelta(0) практически не влияет\n",
    "# (wp.date_diff_pl_rem > pd.to_timedelta(0)) поднимает до 0.430"
   ]
  },
  {
   "cell_type": "code",
   "execution_count": 34,
   "metadata": {},
   "outputs": [
    {
     "data": {
      "text/plain": [
       "target_month\n",
       "False    31877\n",
       "True      2096\n",
       "Name: count, dtype: int64"
      ]
     },
     "execution_count": 34,
     "metadata": {},
     "output_type": "execute_result"
    }
   ],
   "source": [
    "(wp['target_month'] == 1).value_counts()"
   ]
  },
  {
   "cell_type": "code",
   "execution_count": 35,
   "metadata": {},
   "outputs": [],
   "source": [
    "# ((wp.prob_end_month <= 5000) & (wp.prob_end_month > 0)).value_counts()\n",
    "\n",
    "# даёт 0.17 вместо 0.43"
   ]
  },
  {
   "cell_type": "code",
   "execution_count": 36,
   "metadata": {},
   "outputs": [
    {
     "data": {
      "text/plain": [
       "date_diff_srk_sl\n",
       "False    33938\n",
       "True        35\n",
       "Name: count, dtype: int64"
      ]
     },
     "execution_count": 36,
     "metadata": {},
     "output_type": "execute_result"
    }
   ],
   "source": [
    "(wp.date_diff_srk_sl < pd.to_timedelta(500)).value_counts()"
   ]
  },
  {
   "cell_type": "code",
   "execution_count": 37,
   "metadata": {},
   "outputs": [
    {
     "data": {
      "text/plain": [
       "date_diff_pl_rem\n",
       "False    31023\n",
       "True      2950\n",
       "Name: count, dtype: int64"
      ]
     },
     "execution_count": 37,
     "metadata": {},
     "output_type": "execute_result"
    }
   ],
   "source": [
    "(wp.date_diff_pl_rem < pd.to_timedelta(10)).value_counts()"
   ]
  },
  {
   "cell_type": "code",
   "execution_count": 38,
   "metadata": {},
   "outputs": [
    {
     "data": {
      "text/plain": [
       "date_diff_pl_rem\n",
       "False    33973\n",
       "Name: count, dtype: int64"
      ]
     },
     "execution_count": 38,
     "metadata": {},
     "output_type": "execute_result"
    }
   ],
   "source": [
    "((wp.date_diff_pl_rem < pd.to_timedelta(40)) & (wp.date_diff_pl_rem > pd.to_timedelta(0))).value_counts()"
   ]
  },
  {
   "cell_type": "code",
   "execution_count": 39,
   "metadata": {},
   "outputs": [
    {
     "data": {
      "text/plain": [
       "kod_vrab\n",
       "False    33949\n",
       "True        24\n",
       "Name: count, dtype: int64"
      ]
     },
     "execution_count": 39,
     "metadata": {},
     "output_type": "execute_result"
    }
   ],
   "source": [
    "(wp.kod_vrab > 10).value_counts()"
   ]
  },
  {
   "cell_type": "code",
   "execution_count": 40,
   "metadata": {
    "collapsed": false,
    "jupyter": {
     "outputs_hidden": false
    },
    "pycharm": {
     "name": "#%%\n"
    }
   },
   "outputs": [],
   "source": [
    "wp['target_day'] = wp['target_month']"
   ]
  },
  {
   "cell_type": "code",
   "execution_count": 41,
   "metadata": {
    "collapsed": false,
    "jupyter": {
     "outputs_hidden": false
    },
    "pycharm": {
     "name": "#%%\n"
    }
   },
   "outputs": [
    {
     "data": {
      "text/html": [
       "<div>\n",
       "<style scoped>\n",
       "    .dataframe tbody tr th:only-of-type {\n",
       "        vertical-align: middle;\n",
       "    }\n",
       "\n",
       "    .dataframe tbody tr th {\n",
       "        vertical-align: top;\n",
       "    }\n",
       "\n",
       "    .dataframe thead th {\n",
       "        text-align: right;\n",
       "    }\n",
       "</style>\n",
       "<table border=\"1\" class=\"dataframe\">\n",
       "  <thead>\n",
       "    <tr style=\"text-align: right;\">\n",
       "      <th></th>\n",
       "      <th>wagnum</th>\n",
       "      <th>target_month</th>\n",
       "      <th>target_day</th>\n",
       "    </tr>\n",
       "  </thead>\n",
       "  <tbody>\n",
       "    <tr>\n",
       "      <th>0</th>\n",
       "      <td>33361</td>\n",
       "      <td>0</td>\n",
       "      <td>0</td>\n",
       "    </tr>\n",
       "    <tr>\n",
       "      <th>1</th>\n",
       "      <td>33364</td>\n",
       "      <td>0</td>\n",
       "      <td>0</td>\n",
       "    </tr>\n",
       "    <tr>\n",
       "      <th>2</th>\n",
       "      <td>33366</td>\n",
       "      <td>0</td>\n",
       "      <td>0</td>\n",
       "    </tr>\n",
       "    <tr>\n",
       "      <th>3</th>\n",
       "      <td>33358</td>\n",
       "      <td>0</td>\n",
       "      <td>0</td>\n",
       "    </tr>\n",
       "    <tr>\n",
       "      <th>4</th>\n",
       "      <td>33349</td>\n",
       "      <td>0</td>\n",
       "      <td>0</td>\n",
       "    </tr>\n",
       "  </tbody>\n",
       "</table>\n",
       "</div>"
      ],
      "text/plain": [
       "   wagnum  target_month  target_day\n",
       "0   33361             0           0\n",
       "1   33364             0           0\n",
       "2   33366             0           0\n",
       "3   33358             0           0\n",
       "4   33349             0           0"
      ]
     },
     "execution_count": 41,
     "metadata": {},
     "output_type": "execute_result"
    }
   ],
   "source": [
    "pred_target = target[['wagnum']].merge(wp[['wagnum','target_month','target_day']],how = 'left')\n",
    "pred_target = pred_target.drop_duplicates(subset = 'wagnum')\n",
    "\n",
    "pred_target.head()"
   ]
  },
  {
   "cell_type": "code",
   "execution_count": 42,
   "metadata": {
    "collapsed": false,
    "jupyter": {
     "outputs_hidden": false
    },
    "pycharm": {
     "name": "#%%\n"
    }
   },
   "outputs": [
    {
     "data": {
      "text/plain": [
       "1.25"
      ]
     },
     "execution_count": 42,
     "metadata": {},
     "output_type": "execute_result"
    }
   ],
   "source": [
    "# Проверим соотношение отмеченных вагонов с фактическим значением\n",
    "round(pred_target.target_month.sum() / target.target_month.sum(), 2)"
   ]
  },
  {
   "cell_type": "code",
   "execution_count": 43,
   "metadata": {
    "collapsed": false,
    "jupyter": {
     "outputs_hidden": false
    },
    "pycharm": {
     "name": "#%%\n"
    }
   },
   "outputs": [],
   "source": [
    "# сохраним таргет за месяц для выбранного периода отдельно\n",
    "target_path = './prediction/target_predicton.csv'\n",
    "\n",
    "pred_target.drop_duplicates(subset = 'wagnum').to_csv(target_path, index=False)\n",
    "\n",
    "true_target_path = './prediction/target_predicton_true.csv'\n",
    "\n",
    "target.drop_duplicates(subset = 'wagnum').to_csv(true_target_path, index=False)"
   ]
  },
  {
   "cell_type": "code",
   "execution_count": 44,
   "metadata": {},
   "outputs": [
    {
     "data": {
      "text/html": [
       "<div>\n",
       "<style scoped>\n",
       "    .dataframe tbody tr th:only-of-type {\n",
       "        vertical-align: middle;\n",
       "    }\n",
       "\n",
       "    .dataframe tbody tr th {\n",
       "        vertical-align: top;\n",
       "    }\n",
       "\n",
       "    .dataframe thead th {\n",
       "        text-align: right;\n",
       "    }\n",
       "</style>\n",
       "<table border=\"1\" class=\"dataframe\">\n",
       "  <thead>\n",
       "    <tr style=\"text-align: right;\">\n",
       "      <th></th>\n",
       "      <th>wagnum</th>\n",
       "      <th>target_month_x</th>\n",
       "      <th>target_day_x</th>\n",
       "      <th>target_month_y</th>\n",
       "      <th>target_day_y</th>\n",
       "    </tr>\n",
       "  </thead>\n",
       "  <tbody>\n",
       "    <tr>\n",
       "      <th>30628</th>\n",
       "      <td>1</td>\n",
       "      <td>0</td>\n",
       "      <td>0</td>\n",
       "      <td>0</td>\n",
       "      <td>0</td>\n",
       "    </tr>\n",
       "    <tr>\n",
       "      <th>26132</th>\n",
       "      <td>247</td>\n",
       "      <td>1</td>\n",
       "      <td>0</td>\n",
       "      <td>0</td>\n",
       "      <td>0</td>\n",
       "    </tr>\n",
       "    <tr>\n",
       "      <th>26357</th>\n",
       "      <td>291</td>\n",
       "      <td>1</td>\n",
       "      <td>0</td>\n",
       "      <td>0</td>\n",
       "      <td>0</td>\n",
       "    </tr>\n",
       "    <tr>\n",
       "      <th>26694</th>\n",
       "      <td>297</td>\n",
       "      <td>1</td>\n",
       "      <td>0</td>\n",
       "      <td>1</td>\n",
       "      <td>1</td>\n",
       "    </tr>\n",
       "    <tr>\n",
       "      <th>26697</th>\n",
       "      <td>304</td>\n",
       "      <td>1</td>\n",
       "      <td>0</td>\n",
       "      <td>0</td>\n",
       "      <td>0</td>\n",
       "    </tr>\n",
       "    <tr>\n",
       "      <th>26702</th>\n",
       "      <td>323</td>\n",
       "      <td>1</td>\n",
       "      <td>0</td>\n",
       "      <td>0</td>\n",
       "      <td>0</td>\n",
       "    </tr>\n",
       "    <tr>\n",
       "      <th>15403</th>\n",
       "      <td>844</td>\n",
       "      <td>1</td>\n",
       "      <td>1</td>\n",
       "      <td>0</td>\n",
       "      <td>0</td>\n",
       "    </tr>\n",
       "    <tr>\n",
       "      <th>12389</th>\n",
       "      <td>849</td>\n",
       "      <td>1</td>\n",
       "      <td>0</td>\n",
       "      <td>0</td>\n",
       "      <td>0</td>\n",
       "    </tr>\n",
       "    <tr>\n",
       "      <th>28335</th>\n",
       "      <td>855</td>\n",
       "      <td>1</td>\n",
       "      <td>0</td>\n",
       "      <td>0</td>\n",
       "      <td>0</td>\n",
       "    </tr>\n",
       "    <tr>\n",
       "      <th>14633</th>\n",
       "      <td>861</td>\n",
       "      <td>1</td>\n",
       "      <td>1</td>\n",
       "      <td>0</td>\n",
       "      <td>0</td>\n",
       "    </tr>\n",
       "  </tbody>\n",
       "</table>\n",
       "</div>"
      ],
      "text/plain": [
       "       wagnum  target_month_x  target_day_x  target_month_y  target_day_y\n",
       "30628       1               0             0               0             0\n",
       "26132     247               1             0               0             0\n",
       "26357     291               1             0               0             0\n",
       "26694     297               1             0               1             1\n",
       "26697     304               1             0               0             0\n",
       "26702     323               1             0               0             0\n",
       "15403     844               1             1               0             0\n",
       "12389     849               1             0               0             0\n",
       "28335     855               1             0               0             0\n",
       "14633     861               1             1               0             0"
      ]
     },
     "execution_count": 44,
     "metadata": {},
     "output_type": "execute_result"
    }
   ],
   "source": [
    "all_targets = pd.merge(target, pred_target, on='wagnum')\n",
    "all_targets.loc[(all_targets == 1).any(axis=1)].sort_values(by='wagnum').head(10)"
   ]
  },
  {
   "cell_type": "code",
   "execution_count": 45,
   "metadata": {},
   "outputs": [
    {
     "data": {
      "text/plain": [
       "target_month\n",
       "0    32297\n",
       "1     1676\n",
       "Name: count, dtype: Int64"
      ]
     },
     "execution_count": 45,
     "metadata": {},
     "output_type": "execute_result"
    }
   ],
   "source": [
    "target.target_month.value_counts()"
   ]
  },
  {
   "cell_type": "code",
   "execution_count": 46,
   "metadata": {
    "collapsed": false,
    "jupyter": {
     "outputs_hidden": false
    },
    "pycharm": {
     "name": "#%%\n"
    }
   },
   "outputs": [
    {
     "data": {
      "text/plain": [
       "0.4332003387453235"
      ]
     },
     "execution_count": 46,
     "metadata": {},
     "output_type": "execute_result"
    }
   ],
   "source": [
    "# оценим насколько хорошо удалось предсказать выбытие вагонов по месяцу и по 10 дням\n",
    "calc_f1_score(true_target_path, target_path)"
   ]
  },
  {
   "cell_type": "markdown",
   "metadata": {},
   "source": [
    "Базовая метрика улучшенного бэйзлана - **0.433**"
   ]
  },
  {
   "cell_type": "markdown",
   "metadata": {
    "collapsed": false,
    "jupyter": {
     "outputs_hidden": false
    },
    "pycharm": {
     "name": "#%%\n"
    }
   },
   "source": [
    "Базовая метрика бэйзлана - **0.23121**"
   ]
  },
  {
   "cell_type": "code",
   "execution_count": 47,
   "metadata": {},
   "outputs": [
    {
     "name": "stdout",
     "output_type": "stream",
     "text": [
      "(0.4332003387453235, 0.3511450381679389, 0.70725865737553)\n"
     ]
    }
   ],
   "source": [
    "print(calc_metrics(true_target_path, target_path))"
   ]
  }
 ],
 "metadata": {
  "kernelspec": {
   "display_name": "Python 3 (ipykernel)",
   "language": "python",
   "name": "python3"
  },
  "language_info": {
   "codemirror_mode": {
    "name": "ipython",
    "version": 3
   },
   "file_extension": ".py",
   "mimetype": "text/x-python",
   "name": "python",
   "nbconvert_exporter": "python",
   "pygments_lexer": "ipython3",
   "version": "3.9.5"
  }
 },
 "nbformat": 4,
 "nbformat_minor": 4
}
